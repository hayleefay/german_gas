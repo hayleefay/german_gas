{
 "cells": [
  {
   "cell_type": "code",
   "execution_count": 254,
   "metadata": {
    "collapsed": true
   },
   "outputs": [],
   "source": [
    "import pandas as pd\n",
    "from sklearn.preprocessing import MinMaxScaler\n",
    "from math import sqrt\n",
    "from numpy import concatenate\n",
    "from matplotlib import pyplot\n",
    "from sklearn.preprocessing import MinMaxScaler\n",
    "from sklearn.preprocessing import LabelEncoder\n",
    "from sklearn.metrics import mean_squared_error\n",
    "from keras.models import Sequential\n",
    "from keras.layers import Dense\n",
    "from keras.layers import LSTM"
   ]
  },
  {
   "cell_type": "code",
   "execution_count": 266,
   "metadata": {},
   "outputs": [
    {
     "data": {
      "text/html": [
       "<div>\n",
       "<style>\n",
       "    .dataframe thead tr:only-child th {\n",
       "        text-align: right;\n",
       "    }\n",
       "\n",
       "    .dataframe thead th {\n",
       "        text-align: left;\n",
       "    }\n",
       "\n",
       "    .dataframe tbody tr th {\n",
       "        vertical-align: top;\n",
       "    }\n",
       "</style>\n",
       "<table border=\"1\" class=\"dataframe\">\n",
       "  <thead>\n",
       "    <tr style=\"text-align: right;\">\n",
       "      <th></th>\n",
       "      <th>date</th>\n",
       "      <th>weekday</th>\n",
       "      <th>e5gas</th>\n",
       "      <th>rotterdam</th>\n",
       "      <th>brent</th>\n",
       "      <th>wti</th>\n",
       "      <th>eurusd</th>\n",
       "      <th>vehicles</th>\n",
       "      <th>station</th>\n",
       "      <th>global_mean</th>\n",
       "      <th>state_mean</th>\n",
       "    </tr>\n",
       "  </thead>\n",
       "  <tbody>\n",
       "    <tr>\n",
       "      <th>0</th>\n",
       "      <td>2014-05-16</td>\n",
       "      <td>5</td>\n",
       "      <td>1.537824</td>\n",
       "      <td>0.622837</td>\n",
       "      <td>109.424042</td>\n",
       "      <td>101.258553</td>\n",
       "      <td>1.369886</td>\n",
       "      <td>13870.0</td>\n",
       "      <td>1</td>\n",
       "      <td>1.546131</td>\n",
       "      <td>1.549588</td>\n",
       "    </tr>\n",
       "    <tr>\n",
       "      <th>1</th>\n",
       "      <td>2014-05-17</td>\n",
       "      <td>6</td>\n",
       "      <td>1.541500</td>\n",
       "      <td>0.622486</td>\n",
       "      <td>109.699997</td>\n",
       "      <td>101.669998</td>\n",
       "      <td>1.369580</td>\n",
       "      <td>10676.0</td>\n",
       "      <td>1</td>\n",
       "      <td>1.560708</td>\n",
       "      <td>1.568006</td>\n",
       "    </tr>\n",
       "    <tr>\n",
       "      <th>2</th>\n",
       "      <td>2014-05-18</td>\n",
       "      <td>0</td>\n",
       "      <td>1.539000</td>\n",
       "      <td>0.622136</td>\n",
       "      <td>109.699997</td>\n",
       "      <td>101.669998</td>\n",
       "      <td>1.369580</td>\n",
       "      <td>7254.0</td>\n",
       "      <td>1</td>\n",
       "      <td>1.564237</td>\n",
       "      <td>1.571078</td>\n",
       "    </tr>\n",
       "    <tr>\n",
       "      <th>3</th>\n",
       "      <td>2014-05-19</td>\n",
       "      <td>1</td>\n",
       "      <td>1.534000</td>\n",
       "      <td>0.621785</td>\n",
       "      <td>109.838928</td>\n",
       "      <td>102.008537</td>\n",
       "      <td>1.370161</td>\n",
       "      <td>13422.0</td>\n",
       "      <td>1</td>\n",
       "      <td>1.563935</td>\n",
       "      <td>1.567407</td>\n",
       "    </tr>\n",
       "    <tr>\n",
       "      <th>4</th>\n",
       "      <td>2014-05-20</td>\n",
       "      <td>2</td>\n",
       "      <td>1.554417</td>\n",
       "      <td>0.620475</td>\n",
       "      <td>109.522926</td>\n",
       "      <td>102.058907</td>\n",
       "      <td>1.368282</td>\n",
       "      <td>13057.0</td>\n",
       "      <td>1</td>\n",
       "      <td>1.566228</td>\n",
       "      <td>1.572355</td>\n",
       "    </tr>\n",
       "  </tbody>\n",
       "</table>\n",
       "</div>"
      ],
      "text/plain": [
       "         date  weekday     e5gas  rotterdam       brent         wti    eurusd  \\\n",
       "0  2014-05-16        5  1.537824   0.622837  109.424042  101.258553  1.369886   \n",
       "1  2014-05-17        6  1.541500   0.622486  109.699997  101.669998  1.369580   \n",
       "2  2014-05-18        0  1.539000   0.622136  109.699997  101.669998  1.369580   \n",
       "3  2014-05-19        1  1.534000   0.621785  109.838928  102.008537  1.370161   \n",
       "4  2014-05-20        2  1.554417   0.620475  109.522926  102.058907  1.368282   \n",
       "\n",
       "   vehicles  station  global_mean  state_mean  \n",
       "0   13870.0        1     1.546131    1.549588  \n",
       "1   10676.0        1     1.560708    1.568006  \n",
       "2    7254.0        1     1.564237    1.571078  \n",
       "3   13422.0        1     1.563935    1.567407  \n",
       "4   13057.0        1     1.566228    1.572355  "
      ]
     },
     "execution_count": 266,
     "metadata": {},
     "output_type": "execute_result"
    }
   ],
   "source": [
    "df = pd.read_csv('station1.csv')\n",
    "df.head()"
   ]
  },
  {
   "cell_type": "code",
   "execution_count": 267,
   "metadata": {},
   "outputs": [
    {
     "data": {
      "text/plain": [
       "(575, 11)"
      ]
     },
     "execution_count": 267,
     "metadata": {},
     "output_type": "execute_result"
    }
   ],
   "source": [
    "df.shape"
   ]
  },
  {
   "cell_type": "code",
   "execution_count": 268,
   "metadata": {},
   "outputs": [
    {
     "name": "stdout",
     "output_type": "stream",
     "text": [
      "   var1(t-1)  var2(t-1)  var3(t-1)  var4(t-1)  var5(t-1)  var6(t-1)  \\\n",
      "1   0.847508   0.833333   0.837361   0.930292   0.921895   0.999172   \n",
      "2   0.858375   1.000000   0.836386   0.933953   0.927822   0.998255   \n",
      "3   0.850986   0.000000   0.835411   0.933953   0.927822   0.998255   \n",
      "4   0.836207   0.166667   0.834437   0.935795   0.932700   1.000000   \n",
      "5   0.896552   0.333333   0.830794   0.931604   0.933425   0.994358   \n",
      "\n",
      "   var7(t-1)  var8(t-1)  var9(t-1)   var1(t)  \n",
      "1   0.914701   0.837500   0.820992  0.858375  \n",
      "2   0.610974   0.879542   0.873002  0.850986  \n",
      "3   0.285565   0.889721   0.881676  0.836207  \n",
      "4   0.872100   0.888849   0.871310  0.896552  \n",
      "5   0.837391   0.895463   0.885281  0.896552  \n"
     ]
    }
   ],
   "source": [
    "# convert series to supervised learning\n",
    "def series_to_supervised(data, n_in=1, n_out=1, dropnan=True):\n",
    "    n_vars = 1 if type(data) is list else data.shape[1]\n",
    "    df = pd.DataFrame(data)\n",
    "    cols, names = list(), list()\n",
    "    # input sequence (t-n, ... t-1)\n",
    "    for i in range(n_in, 0, -1):\n",
    "        cols.append(df.shift(i))\n",
    "        names += [('var%d(t-%d)' % (j+1, i)) for j in range(n_vars)]\n",
    "    # forecast sequence (t, t+1, ... t+n)\n",
    "    for i in range(0, n_out):\n",
    "        cols.append(df.shift(-i))\n",
    "        if i == 0:\n",
    "            names += [('var%d(t)' % (j+1)) for j in range(n_vars)]\n",
    "        else:\n",
    "            names += [('var%d(t+%d)' % (j+1, i)) for j in range(n_vars)]\n",
    "    # put it all together\n",
    "    agg = pd.concat(cols, axis=1)\n",
    "    agg.columns = names\n",
    "    # drop rows with NaN values\n",
    "    if dropnan:\n",
    "        agg.dropna(inplace=True)\n",
    "    return agg\n",
    " \n",
    "# load dataset\n",
    "df.set_index('date', inplace=True)\n",
    "df.sort_index(inplace=True)\n",
    "df['e5gas'].fillna(0, inplace=True)\n",
    "df.drop('station', axis=1, inplace=True)\n",
    "cols = list(df)\n",
    "cols.insert(0, cols.pop(cols.index('e5gas')))\n",
    "df = df.loc[:, cols]\n",
    "values = df.values\n",
    "# ensure all data is float\n",
    "values = values.astype('float32')\n",
    "# normalize features\n",
    "scaler = MinMaxScaler(feature_range=(0, 1))\n",
    "scaled = scaler.fit_transform(values)\n",
    "# frame as supervised learning\n",
    "reframed = series_to_supervised(scaled, 1, 1)\n",
    "# drop columns we don't want to predict\n",
    "reframed.drop(reframed.columns[[10, 11, 12, 13, 14, 15, 16, 17]], axis=1, inplace=True)\n",
    "print(reframed.head())"
   ]
  },
  {
   "cell_type": "code",
   "execution_count": 269,
   "metadata": {},
   "outputs": [
    {
     "name": "stdout",
     "output_type": "stream",
     "text": [
      "(460, 1, 9) (460,) (114, 1, 9) (114,)\n"
     ]
    }
   ],
   "source": [
    "# split into train and test sets\n",
    "values = reframed.values\n",
    "n_train_days = int(575*.8)\n",
    "train = values[:n_train_days, :]\n",
    "test = values[n_train_days:, :]\n",
    "# split into input and outputs\n",
    "train_X, train_y = train[:, :-1], train[:, -1]\n",
    "test_X, test_y = test[:, :-1], test[:, -1]\n",
    "# reshape input to be 3D [samples, timesteps, features]\n",
    "train_X = train_X.reshape((train_X.shape[0], 1, train_X.shape[1]))\n",
    "test_X = test_X.reshape((test_X.shape[0], 1, test_X.shape[1]))\n",
    "print(train_X.shape, train_y.shape, test_X.shape, test_y.shape)"
   ]
  },
  {
   "cell_type": "code",
   "execution_count": 270,
   "metadata": {},
   "outputs": [
    {
     "name": "stdout",
     "output_type": "stream",
     "text": [
      "Train on 460 samples, validate on 114 samples\n",
      "Epoch 1/50\n",
      " - 1s - loss: 0.4873 - val_loss: 0.0738\n",
      "Epoch 2/50\n",
      " - 0s - loss: 0.3957 - val_loss: 0.0445\n",
      "Epoch 3/50\n",
      " - 0s - loss: 0.3098 - val_loss: 0.0580\n",
      "Epoch 4/50\n",
      " - 0s - loss: 0.2269 - val_loss: 0.1004\n",
      "Epoch 5/50\n",
      " - 0s - loss: 0.1496 - val_loss: 0.1513\n",
      "Epoch 6/50\n",
      " - 0s - loss: 0.0895 - val_loss: 0.1960\n",
      "Epoch 7/50\n",
      " - 0s - loss: 0.0782 - val_loss: 0.2013\n",
      "Epoch 8/50\n",
      " - 0s - loss: 0.0775 - val_loss: 0.1778\n",
      "Epoch 9/50\n",
      " - 0s - loss: 0.0685 - val_loss: 0.1632\n",
      "Epoch 10/50\n",
      " - 0s - loss: 0.0673 - val_loss: 0.1638\n",
      "Epoch 11/50\n",
      " - 0s - loss: 0.0627 - val_loss: 0.1636\n",
      "Epoch 12/50\n",
      " - 0s - loss: 0.0617 - val_loss: 0.1538\n",
      "Epoch 13/50\n",
      " - 0s - loss: 0.0591 - val_loss: 0.1462\n",
      "Epoch 14/50\n",
      " - 0s - loss: 0.0563 - val_loss: 0.1455\n",
      "Epoch 15/50\n",
      " - 0s - loss: 0.0553 - val_loss: 0.1409\n",
      "Epoch 16/50\n",
      " - 0s - loss: 0.0536 - val_loss: 0.1356\n",
      "Epoch 17/50\n",
      " - 0s - loss: 0.0510 - val_loss: 0.1339\n",
      "Epoch 18/50\n",
      " - 0s - loss: 0.0496 - val_loss: 0.1305\n",
      "Epoch 19/50\n",
      " - 0s - loss: 0.0478 - val_loss: 0.1267\n",
      "Epoch 20/50\n",
      " - 0s - loss: 0.0457 - val_loss: 0.1246\n",
      "Epoch 21/50\n",
      " - 0s - loss: 0.0445 - val_loss: 0.1197\n",
      "Epoch 22/50\n",
      " - 0s - loss: 0.0422 - val_loss: 0.1176\n",
      "Epoch 23/50\n",
      " - 0s - loss: 0.0412 - val_loss: 0.1116\n",
      "Epoch 24/50\n",
      " - 0s - loss: 0.0390 - val_loss: 0.1086\n",
      "Epoch 25/50\n",
      " - 0s - loss: 0.0375 - val_loss: 0.1043\n",
      "Epoch 26/50\n",
      " - 0s - loss: 0.0359 - val_loss: 0.1002\n",
      "Epoch 27/50\n",
      " - 0s - loss: 0.0340 - val_loss: 0.0972\n",
      "Epoch 28/50\n",
      " - 0s - loss: 0.0324 - val_loss: 0.0934\n",
      "Epoch 29/50\n",
      " - 0s - loss: 0.0310 - val_loss: 0.0889\n",
      "Epoch 30/50\n",
      " - 0s - loss: 0.0291 - val_loss: 0.0855\n",
      "Epoch 31/50\n",
      " - 0s - loss: 0.0279 - val_loss: 0.0805\n",
      "Epoch 32/50\n",
      " - 0s - loss: 0.0260 - val_loss: 0.0784\n",
      "Epoch 33/50\n",
      " - 0s - loss: 0.0254 - val_loss: 0.0722\n",
      "Epoch 34/50\n",
      " - 0s - loss: 0.0235 - val_loss: 0.0728\n",
      "Epoch 35/50\n",
      " - 0s - loss: 0.0238 - val_loss: 0.0637\n",
      "Epoch 36/50\n",
      " - 0s - loss: 0.0217 - val_loss: 0.0668\n",
      "Epoch 37/50\n",
      " - 0s - loss: 0.0220 - val_loss: 0.0572\n",
      "Epoch 38/50\n",
      " - 0s - loss: 0.0202 - val_loss: 0.0590\n",
      "Epoch 39/50\n",
      " - 0s - loss: 0.0202 - val_loss: 0.0529\n",
      "Epoch 40/50\n",
      " - 0s - loss: 0.0190 - val_loss: 0.0535\n",
      "Epoch 41/50\n",
      " - 0s - loss: 0.0190 - val_loss: 0.0499\n",
      "Epoch 42/50\n",
      " - 0s - loss: 0.0183 - val_loss: 0.0513\n",
      "Epoch 43/50\n",
      " - 0s - loss: 0.0185 - val_loss: 0.0481\n",
      "Epoch 44/50\n",
      " - 0s - loss: 0.0181 - val_loss: 0.0487\n",
      "Epoch 45/50\n",
      " - 0s - loss: 0.0179 - val_loss: 0.0470\n",
      "Epoch 46/50\n",
      " - 0s - loss: 0.0179 - val_loss: 0.0467\n",
      "Epoch 47/50\n",
      " - 0s - loss: 0.0176 - val_loss: 0.0465\n",
      "Epoch 48/50\n",
      " - 0s - loss: 0.0178 - val_loss: 0.0451\n",
      "Epoch 49/50\n",
      " - 0s - loss: 0.0175 - val_loss: 0.0455\n",
      "Epoch 50/50\n",
      " - 0s - loss: 0.0176 - val_loss: 0.0449\n"
     ]
    },
    {
     "data": {
      "image/png": "[encoded data removed]",
      "text/plain": [
       "<matplotlib.figure.Figure at 0x121d66ba8>"
      ]
     },
     "metadata": {},
     "output_type": "display_data"
    }
   ],
   "source": [
    "# design network\n",
    "model = Sequential()\n",
    "model.add(LSTM(50, input_shape=(train_X.shape[1], train_X.shape[2])))\n",
    "model.add(Dense(1))\n",
    "model.compile(loss='mae', optimizer='adam')\n",
    "# fit network\n",
    "history = model.fit(train_X, train_y, epochs=50, batch_size=72, validation_data=(test_X, test_y), verbose=2, shuffle=False)\n",
    "# plot history\n",
    "pyplot.plot(history.history['loss'], label='train')\n",
    "pyplot.plot(history.history['val_loss'], label='test')\n",
    "pyplot.legend()\n",
    "pyplot.show()"
   ]
  },
  {
   "cell_type": "code",
   "execution_count": 271,
   "metadata": {},
   "outputs": [
    {
     "name": "stdout",
     "output_type": "stream",
     "text": [
      "Test RMSE: 0.017\n"
     ]
    }
   ],
   "source": [
    "# make a prediction\n",
    "yhat = model.predict(test_X)\n",
    "test_X = test_X.reshape((test_X.shape[0], test_X.shape[2]))\n",
    "# invert scaling for forecast\n",
    "inv_yhat = concatenate((yhat, test_X[:, 1:]), axis=1)\n",
    "inv_yhat = scaler.inverse_transform(inv_yhat)\n",
    "inv_yhat = inv_yhat[:,0]\n",
    "# invert scaling for actual\n",
    "test_y = test_y.reshape((len(test_y), 1))\n",
    "inv_y = concatenate((test_y, test_X[:, 1:]), axis=1)\n",
    "inv_y = scaler.inverse_transform(inv_y)\n",
    "inv_y = inv_y[:,0]\n",
    "# calculate RMSE\n",
    "rmse = sqrt(mean_squared_error(inv_y, inv_yhat))\n",
    "print('Test RMSE: %.3f' % rmse)"
   ]
  },
  {
   "cell_type": "code",
   "execution_count": 272,
   "metadata": {},
   "outputs": [
    {
     "data": {
      "text/html": [
       "<div>\n",
       "<style>\n",
       "    .dataframe thead tr:only-child th {\n",
       "        text-align: right;\n",
       "    }\n",
       "\n",
       "    .dataframe thead th {\n",
       "        text-align: left;\n",
       "    }\n",
       "\n",
       "    .dataframe tbody tr th {\n",
       "        vertical-align: top;\n",
       "    }\n",
       "</style>\n",
       "<table border=\"1\" class=\"dataframe\">\n",
       "  <thead>\n",
       "    <tr style=\"text-align: right;\">\n",
       "      <th></th>\n",
       "      <th>e5gas</th>\n",
       "      <th>weekday</th>\n",
       "      <th>rotterdam</th>\n",
       "      <th>brent</th>\n",
       "      <th>wti</th>\n",
       "      <th>eurusd</th>\n",
       "      <th>vehicles</th>\n",
       "      <th>global_mean</th>\n",
       "      <th>state_mean</th>\n",
       "    </tr>\n",
       "    <tr>\n",
       "      <th>date</th>\n",
       "      <th></th>\n",
       "      <th></th>\n",
       "      <th></th>\n",
       "      <th></th>\n",
       "      <th></th>\n",
       "      <th></th>\n",
       "      <th></th>\n",
       "      <th></th>\n",
       "      <th></th>\n",
       "    </tr>\n",
       "  </thead>\n",
       "  <tbody>\n",
       "    <tr>\n",
       "      <th>2014-05-16</th>\n",
       "      <td>1.537824</td>\n",
       "      <td>5</td>\n",
       "      <td>0.622837</td>\n",
       "      <td>109.424042</td>\n",
       "      <td>101.258553</td>\n",
       "      <td>1.369886</td>\n",
       "      <td>13870.0</td>\n",
       "      <td>1.546131</td>\n",
       "      <td>1.549588</td>\n",
       "    </tr>\n",
       "    <tr>\n",
       "      <th>2014-05-17</th>\n",
       "      <td>1.541500</td>\n",
       "      <td>6</td>\n",
       "      <td>0.622486</td>\n",
       "      <td>109.699997</td>\n",
       "      <td>101.669998</td>\n",
       "      <td>1.369580</td>\n",
       "      <td>10676.0</td>\n",
       "      <td>1.560708</td>\n",
       "      <td>1.568006</td>\n",
       "    </tr>\n",
       "    <tr>\n",
       "      <th>2014-05-18</th>\n",
       "      <td>1.539000</td>\n",
       "      <td>0</td>\n",
       "      <td>0.622136</td>\n",
       "      <td>109.699997</td>\n",
       "      <td>101.669998</td>\n",
       "      <td>1.369580</td>\n",
       "      <td>7254.0</td>\n",
       "      <td>1.564237</td>\n",
       "      <td>1.571078</td>\n",
       "    </tr>\n",
       "    <tr>\n",
       "      <th>2014-05-19</th>\n",
       "      <td>1.534000</td>\n",
       "      <td>1</td>\n",
       "      <td>0.621785</td>\n",
       "      <td>109.838928</td>\n",
       "      <td>102.008537</td>\n",
       "      <td>1.370161</td>\n",
       "      <td>13422.0</td>\n",
       "      <td>1.563935</td>\n",
       "      <td>1.567407</td>\n",
       "    </tr>\n",
       "    <tr>\n",
       "      <th>2014-05-20</th>\n",
       "      <td>1.554417</td>\n",
       "      <td>2</td>\n",
       "      <td>0.620475</td>\n",
       "      <td>109.522926</td>\n",
       "      <td>102.058907</td>\n",
       "      <td>1.368282</td>\n",
       "      <td>13057.0</td>\n",
       "      <td>1.566228</td>\n",
       "      <td>1.572355</td>\n",
       "    </tr>\n",
       "  </tbody>\n",
       "</table>\n",
       "</div>"
      ],
      "text/plain": [
       "               e5gas  weekday  rotterdam       brent         wti    eurusd  \\\n",
       "date                                                                         \n",
       "2014-05-16  1.537824        5   0.622837  109.424042  101.258553  1.369886   \n",
       "2014-05-17  1.541500        6   0.622486  109.699997  101.669998  1.369580   \n",
       "2014-05-18  1.539000        0   0.622136  109.699997  101.669998  1.369580   \n",
       "2014-05-19  1.534000        1   0.621785  109.838928  102.008537  1.370161   \n",
       "2014-05-20  1.554417        2   0.620475  109.522926  102.058907  1.368282   \n",
       "\n",
       "            vehicles  global_mean  state_mean  \n",
       "date                                           \n",
       "2014-05-16   13870.0     1.546131    1.549588  \n",
       "2014-05-17   10676.0     1.560708    1.568006  \n",
       "2014-05-18    7254.0     1.564237    1.571078  \n",
       "2014-05-19   13422.0     1.563935    1.567407  \n",
       "2014-05-20   13057.0     1.566228    1.572355  "
      ]
     },
     "execution_count": 272,
     "metadata": {},
     "output_type": "execute_result"
    }
   ],
   "source": [
    "df.head()"
   ]
  },
  {
   "cell_type": "code",
   "execution_count": 292,
   "metadata": {},
   "outputs": [],
   "source": [
    "rmse = pd.read_csv('rmse_dict.csv', sep=' ', header=None, names=['index', 'rmse'])"
   ]
  },
  {
   "cell_type": "code",
   "execution_count": 294,
   "metadata": {},
   "outputs": [
    {
     "data": {
      "text/plain": [
       "0.020826238427946203"
      ]
     },
     "execution_count": 294,
     "metadata": {},
     "output_type": "execute_result"
    }
   ],
   "source": [
    "rmse['rmse'].mean()"
   ]
  },
  {
   "cell_type": "code",
   "execution_count": 293,
   "metadata": {},
   "outputs": [
    {
     "data": {
      "text/plain": [
       "(383, 2)"
      ]
     },
     "execution_count": 293,
     "metadata": {},
     "output_type": "execute_result"
    }
   ],
   "source": [
    "rmse.shape"
   ]
  },
  {
   "cell_type": "code",
   "execution_count": 297,
   "metadata": {},
   "outputs": [
    {
     "data": {
      "text/plain": [
       "0.10150437522803583"
      ]
     },
     "execution_count": 297,
     "metadata": {},
     "output_type": "execute_result"
    }
   ],
   "source": [
    "df['e5gas'].std()"
   ]
  },
  {
   "cell_type": "code",
   "execution_count": null,
   "metadata": {
    "collapsed": true
   },
   "outputs": [],
   "source": []
  }
 ],
 "metadata": {
  "kernelspec": {
   "display_name": "Python 3",
   "language": "python",
   "name": "python3"
  },
  "language_info": {
   "codemirror_mode": {
    "name": "ipython",
    "version": 3
   },
   "file_extension": ".py",
   "mimetype": "text/x-python",
   "name": "python",
   "nbconvert_exporter": "python",
   "pygments_lexer": "ipython3",
   "version": "3.6.3"
  }
 },
 "nbformat": 4,
 "nbformat_minor": 2
}
