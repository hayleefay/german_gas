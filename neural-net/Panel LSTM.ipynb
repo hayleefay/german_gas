{
 "cells": [
  {
   "cell_type": "code",
   "execution_count": 80,
   "metadata": {
    "collapsed": true
   },
   "outputs": [],
   "source": [
    "reframed = pd.read_csv(\"supervised_1_1.csv\")\n",
    "reframed.drop(['Unnamed: 0'], axis=1, inplace=True)\n",
    "reframed.head()"
   ]
  },
  {
   "cell_type": "code",
   "execution_count": 83,
   "metadata": {},
   "outputs": [
    {
     "name": "stdout",
     "output_type": "stream",
     "text": [
      "(6938397, 1, 21) (6938397,) (365179, 1, 21) (365179,)\n"
     ]
    }
   ],
   "source": [
    "# split into train and test sets\n",
    "# now order needs to be by day rather than by station -- reorder by num_days\n",
    "# var21(t-1) is num_days\n",
    "# var18(t-1) is station\n",
    "n = 7303576\n",
    "reframed.sort_values(by=['var21(t-1)', 'var18(t-1)'], inplace=True)\n",
    "values = reframed.values\n",
    "n_train_days = int(n*.95)\n",
    "train = values[:n_train_days, :]\n",
    "test = values[n_train_days:, :]\n",
    "# split into input and outputs\n",
    "train_X, train_y = train[:, :-n_seq], train[:, -n_seq]\n",
    "test_X, test_y = test[:, :-n_seq], test[:, -n_seq]\n",
    "# reshape input to be 3D [samples, timesteps, features]\n",
    "train_X = train_X.reshape((train_X.shape[0], 1, train_X.shape[1]))\n",
    "test_X = test_X.reshape((test_X.shape[0], 1, test_X.shape[1]))\n",
    "print(train_X.shape, train_y.shape, test_X.shape, test_y.shape)"
   ]
  },
  {
   "cell_type": "code",
   "execution_count": 84,
   "metadata": {},
   "outputs": [
    {
     "name": "stdout",
     "output_type": "stream",
     "text": [
      "Train on 6938397 samples, validate on 365179 samples\n",
      "Epoch 1/10\n",
      " - 44s - loss: 0.0265 - val_loss: 0.0179\n",
      "Epoch 2/10\n",
      " - 44s - loss: 0.0163 - val_loss: 0.0172\n",
      "Epoch 3/10\n",
      " - 40s - loss: 0.0144 - val_loss: 0.0149\n",
      "Epoch 4/10\n",
      " - 42s - loss: 0.0140 - val_loss: 0.0117\n",
      "Epoch 5/10\n",
      " - 43s - loss: 0.0125 - val_loss: 0.0102\n",
      "Epoch 6/10\n",
      " - 43s - loss: 0.0123 - val_loss: 0.0174\n",
      "Epoch 7/10\n",
      " - 39s - loss: 0.0126 - val_loss: 0.0127\n",
      "Epoch 8/10\n",
      " - 40s - loss: 0.0105 - val_loss: 0.0114\n",
      "Epoch 9/10\n",
      " - 40s - loss: 0.0107 - val_loss: 0.0145\n",
      "Epoch 10/10\n",
      " - 40s - loss: 0.0101 - val_loss: 0.0102\n"
     ]
    },
    {
     "data": {
      "image/png": "[encoded data removed]",
      "text/plain": [
       "<matplotlib.figure.Figure at 0x128f5a470>"
      ]
     },
     "metadata": {},
     "output_type": "display_data"
    }
   ],
   "source": [
    "# design network\n",
    "model = Sequential()\n",
    "model.add(LSTM(50, input_shape=(train_X.shape[1], train_X.shape[2])))\n",
    "model.add(Dense(n_seq))\n",
    "model.compile(loss='mae', optimizer='adam')\n",
    "# fit network\n",
    "history = model.fit(train_X, train_y, epochs=10, batch_size=7200, validation_data=(test_X, test_y), verbose=2, shuffle=False)\n",
    "# plot history\n",
    "pyplot.plot(history.history['loss'], label='train')\n",
    "pyplot.plot(history.history['val_loss'], label='test')\n",
    "pyplot.legend()\n",
    "pyplot.show()"
   ]
  },
  {
   "cell_type": "code",
   "execution_count": 85,
   "metadata": {},
   "outputs": [
    {
     "name": "stdout",
     "output_type": "stream",
     "text": [
      "Test RMSE: 0.056\n"
     ]
    }
   ],
   "source": [
    "# make a prediction\n",
    "yhat = model.predict(test_X)\n",
    "test_X = test_X.reshape((test_X.shape[0], test_X.shape[2]))\n",
    "# invert scaling for forecast\n",
    "inv_yhat = concatenate((yhat, test_X[:, 1:]), axis=1)\n",
    "inv_yhat = scaler.inverse_transform(inv_yhat)\n",
    "inv_yhat = inv_yhat[:,0]\n",
    "# invert scaling for actual\n",
    "test_y = test_y.reshape((len(test_y), 1))\n",
    "inv_y = concatenate((test_y, test_X[:, 1:]), axis=1)\n",
    "inv_y = scaler.inverse_transform(inv_y)\n",
    "inv_y = inv_y[:,0]\n",
    "# calculate RMSE\n",
    "rmse = sqrt(mean_squared_error(inv_y, inv_yhat))\n",
    "print('Test RMSE: %.3f' % rmse)"
   ]
  },
  {
   "cell_type": "code",
   "execution_count": null,
   "metadata": {
    "collapsed": true
   },
   "outputs": [],
   "source": []
  },
  {
   "cell_type": "code",
   "execution_count": null,
   "metadata": {
    "collapsed": true
   },
   "outputs": [],
   "source": []
  },
  {
   "cell_type": "code",
   "execution_count": null,
   "metadata": {
    "collapsed": true
   },
   "outputs": [],
   "source": []
  }
 ],
 "metadata": {
  "kernelspec": {
   "display_name": "Python 3",
   "language": "python",
   "name": "python3"
  },
  "language_info": {
   "codemirror_mode": {
    "name": "ipython",
    "version": 3
   },
   "file_extension": ".py",
   "mimetype": "text/x-python",
   "name": "python",
   "nbconvert_exporter": "python",
   "pygments_lexer": "ipython3",
   "version": "3.6.3"
  }
 },
 "nbformat": 4,
 "nbformat_minor": 2
}
