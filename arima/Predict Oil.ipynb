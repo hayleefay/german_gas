{
 "cells": [
  {
   "cell_type": "code",
   "execution_count": 68,
   "metadata": {},
   "outputs": [],
   "source": [
    "import pandas as pd\n",
    "import numpy as np\n",
    "from statsmodels.tsa.arima_model import ARIMA\n",
    "from math import sqrt\n",
    "from sklearn.metrics import mean_squared_error"
   ]
  },
  {
   "cell_type": "code",
   "execution_count": 2,
   "metadata": {
    "collapsed": true
   },
   "outputs": [],
   "source": [
    "# read in the data\n",
    "df = pd.read_csv(\"./../data/supervised_1_1.csv\")"
   ]
  },
  {
   "cell_type": "code",
   "execution_count": 3,
   "metadata": {
    "collapsed": true
   },
   "outputs": [],
   "source": [
    "# convert series to supervised learning\n",
    "def series_to_supervised(data, n_in=1, n_out=1, dropnan=True):\n",
    "    n_vars = 1 if type(data) is list else data.shape[1]\n",
    "    df = pd.DataFrame(data)\n",
    "    cols, names = list(), list()\n",
    "    # input sequence (t-n, ... t-1)\n",
    "    for i in range(n_in, 0, -1):\n",
    "        cols.append(df.shift(i))\n",
    "        names += [('var%d(t-%d)' % (j+1, i)) for j in range(n_vars)]\n",
    "    # forecast sequence (t, t+1, ... t+n)\n",
    "    for i in range(0, n_out):\n",
    "        cols.append(df.shift(-i))\n",
    "        if i == 0:\n",
    "            names += [('var%d(t)' % (j+1)) for j in range(n_vars)]\n",
    "        else:\n",
    "            names += [('var%d(t+%d)' % (j+1, i)) for j in range(n_vars)]\n",
    "    # put it all together\n",
    "    agg = pd.concat(cols, axis=1)\n",
    "    agg.columns = names\n",
    "    # drop rows with NaN values\n",
    "    if dropnan:\n",
    "        agg.dropna(inplace=True)\n",
    "    return agg"
   ]
  },
  {
   "cell_type": "code",
   "execution_count": 4,
   "metadata": {},
   "outputs": [
    {
     "name": "stdout",
     "output_type": "stream",
     "text": [
      "(7316300, 21)\n"
     ]
    },
    {
     "data": {
      "text/html": [
       "<div>\n",
       "<style>\n",
       "    .dataframe thead tr:only-child th {\n",
       "        text-align: right;\n",
       "    }\n",
       "\n",
       "    .dataframe thead th {\n",
       "        text-align: left;\n",
       "    }\n",
       "\n",
       "    .dataframe tbody tr th {\n",
       "        vertical-align: top;\n",
       "    }\n",
       "</style>\n",
       "<table border=\"1\" class=\"dataframe\">\n",
       "  <thead>\n",
       "    <tr style=\"text-align: right;\">\n",
       "      <th></th>\n",
       "      <th>e5gas</th>\n",
       "      <th>weekday</th>\n",
       "      <th>latitude</th>\n",
       "      <th>longitude</th>\n",
       "      <th>dautobahn</th>\n",
       "      <th>autobahn</th>\n",
       "      <th>aral</th>\n",
       "      <th>esso</th>\n",
       "      <th>jet</th>\n",
       "      <th>shell</th>\n",
       "      <th>...</th>\n",
       "      <th>rotterdam</th>\n",
       "      <th>brent</th>\n",
       "      <th>wti</th>\n",
       "      <th>eurusd</th>\n",
       "      <th>vehicles</th>\n",
       "      <th>state</th>\n",
       "      <th>station</th>\n",
       "      <th>global_mean</th>\n",
       "      <th>state_mean</th>\n",
       "      <th>num_days</th>\n",
       "    </tr>\n",
       "    <tr>\n",
       "      <th>date</th>\n",
       "      <th></th>\n",
       "      <th></th>\n",
       "      <th></th>\n",
       "      <th></th>\n",
       "      <th></th>\n",
       "      <th></th>\n",
       "      <th></th>\n",
       "      <th></th>\n",
       "      <th></th>\n",
       "      <th></th>\n",
       "      <th></th>\n",
       "      <th></th>\n",
       "      <th></th>\n",
       "      <th></th>\n",
       "      <th></th>\n",
       "      <th></th>\n",
       "      <th></th>\n",
       "      <th></th>\n",
       "      <th></th>\n",
       "      <th></th>\n",
       "      <th></th>\n",
       "    </tr>\n",
       "  </thead>\n",
       "  <tbody>\n",
       "    <tr>\n",
       "      <th>2014-05-16</th>\n",
       "      <td>1.536647</td>\n",
       "      <td>5</td>\n",
       "      <td>51.157501</td>\n",
       "      <td>10.0002</td>\n",
       "      <td>14850.392578</td>\n",
       "      <td>0</td>\n",
       "      <td>0</td>\n",
       "      <td>0</td>\n",
       "      <td>0</td>\n",
       "      <td>0</td>\n",
       "      <td>...</td>\n",
       "      <td>0.622837</td>\n",
       "      <td>109.424042</td>\n",
       "      <td>101.258553</td>\n",
       "      <td>1.369886</td>\n",
       "      <td>15211.0</td>\n",
       "      <td>10</td>\n",
       "      <td>0</td>\n",
       "      <td>1.546131</td>\n",
       "      <td>1.561237</td>\n",
       "      <td>0</td>\n",
       "    </tr>\n",
       "    <tr>\n",
       "      <th>2014-05-17</th>\n",
       "      <td>1.564000</td>\n",
       "      <td>6</td>\n",
       "      <td>51.157501</td>\n",
       "      <td>10.0002</td>\n",
       "      <td>14850.392578</td>\n",
       "      <td>0</td>\n",
       "      <td>0</td>\n",
       "      <td>0</td>\n",
       "      <td>0</td>\n",
       "      <td>0</td>\n",
       "      <td>...</td>\n",
       "      <td>0.622486</td>\n",
       "      <td>109.699997</td>\n",
       "      <td>101.669998</td>\n",
       "      <td>1.369580</td>\n",
       "      <td>9146.0</td>\n",
       "      <td>10</td>\n",
       "      <td>0</td>\n",
       "      <td>1.560708</td>\n",
       "      <td>1.578196</td>\n",
       "      <td>1</td>\n",
       "    </tr>\n",
       "    <tr>\n",
       "      <th>2014-05-18</th>\n",
       "      <td>1.569417</td>\n",
       "      <td>0</td>\n",
       "      <td>51.157501</td>\n",
       "      <td>10.0002</td>\n",
       "      <td>14850.392578</td>\n",
       "      <td>0</td>\n",
       "      <td>0</td>\n",
       "      <td>0</td>\n",
       "      <td>0</td>\n",
       "      <td>0</td>\n",
       "      <td>...</td>\n",
       "      <td>0.622136</td>\n",
       "      <td>109.699997</td>\n",
       "      <td>101.669998</td>\n",
       "      <td>1.369580</td>\n",
       "      <td>9843.0</td>\n",
       "      <td>10</td>\n",
       "      <td>0</td>\n",
       "      <td>1.564237</td>\n",
       "      <td>1.581731</td>\n",
       "      <td>2</td>\n",
       "    </tr>\n",
       "    <tr>\n",
       "      <th>2014-05-19</th>\n",
       "      <td>1.578167</td>\n",
       "      <td>1</td>\n",
       "      <td>51.157501</td>\n",
       "      <td>10.0002</td>\n",
       "      <td>14850.392578</td>\n",
       "      <td>0</td>\n",
       "      <td>0</td>\n",
       "      <td>0</td>\n",
       "      <td>0</td>\n",
       "      <td>0</td>\n",
       "      <td>...</td>\n",
       "      <td>0.621785</td>\n",
       "      <td>109.838928</td>\n",
       "      <td>102.008537</td>\n",
       "      <td>1.370161</td>\n",
       "      <td>13502.0</td>\n",
       "      <td>10</td>\n",
       "      <td>0</td>\n",
       "      <td>1.563935</td>\n",
       "      <td>1.581525</td>\n",
       "      <td>3</td>\n",
       "    </tr>\n",
       "    <tr>\n",
       "      <th>2014-05-20</th>\n",
       "      <td>1.599000</td>\n",
       "      <td>2</td>\n",
       "      <td>51.157501</td>\n",
       "      <td>10.0002</td>\n",
       "      <td>14850.392578</td>\n",
       "      <td>0</td>\n",
       "      <td>0</td>\n",
       "      <td>0</td>\n",
       "      <td>0</td>\n",
       "      <td>0</td>\n",
       "      <td>...</td>\n",
       "      <td>0.620475</td>\n",
       "      <td>109.522926</td>\n",
       "      <td>102.058907</td>\n",
       "      <td>1.368282</td>\n",
       "      <td>12876.0</td>\n",
       "      <td>10</td>\n",
       "      <td>0</td>\n",
       "      <td>1.566228</td>\n",
       "      <td>1.582620</td>\n",
       "      <td>4</td>\n",
       "    </tr>\n",
       "  </tbody>\n",
       "</table>\n",
       "<p>5 rows × 21 columns</p>\n",
       "</div>"
      ],
      "text/plain": [
       "               e5gas  weekday   latitude  longitude     dautobahn  autobahn  \\\n",
       "date                                                                          \n",
       "2014-05-16  1.536647        5  51.157501    10.0002  14850.392578         0   \n",
       "2014-05-17  1.564000        6  51.157501    10.0002  14850.392578         0   \n",
       "2014-05-18  1.569417        0  51.157501    10.0002  14850.392578         0   \n",
       "2014-05-19  1.578167        1  51.157501    10.0002  14850.392578         0   \n",
       "2014-05-20  1.599000        2  51.157501    10.0002  14850.392578         0   \n",
       "\n",
       "            aral  esso  jet  shell    ...     rotterdam       brent  \\\n",
       "date                                  ...                             \n",
       "2014-05-16     0     0    0      0    ...      0.622837  109.424042   \n",
       "2014-05-17     0     0    0      0    ...      0.622486  109.699997   \n",
       "2014-05-18     0     0    0      0    ...      0.622136  109.699997   \n",
       "2014-05-19     0     0    0      0    ...      0.621785  109.838928   \n",
       "2014-05-20     0     0    0      0    ...      0.620475  109.522926   \n",
       "\n",
       "                   wti    eurusd  vehicles  state  station  global_mean  \\\n",
       "date                                                                      \n",
       "2014-05-16  101.258553  1.369886   15211.0     10        0     1.546131   \n",
       "2014-05-17  101.669998  1.369580    9146.0     10        0     1.560708   \n",
       "2014-05-18  101.669998  1.369580    9843.0     10        0     1.564237   \n",
       "2014-05-19  102.008537  1.370161   13502.0     10        0     1.563935   \n",
       "2014-05-20  102.058907  1.368282   12876.0     10        0     1.566228   \n",
       "\n",
       "            state_mean  num_days  \n",
       "date                              \n",
       "2014-05-16    1.561237         0  \n",
       "2014-05-17    1.578196         1  \n",
       "2014-05-18    1.581731         2  \n",
       "2014-05-19    1.581525         3  \n",
       "2014-05-20    1.582620         4  \n",
       "\n",
       "[5 rows x 21 columns]"
      ]
     },
     "execution_count": 4,
     "metadata": {},
     "output_type": "execute_result"
    }
   ],
   "source": [
    "df.set_index('date', inplace=True)\n",
    "print(df.shape)\n",
    "df.head()"
   ]
  },
  {
   "cell_type": "code",
   "execution_count": 5,
   "metadata": {},
   "outputs": [
    {
     "name": "stdout",
     "output_type": "stream",
     "text": [
      "(7316300, 17)\n"
     ]
    },
    {
     "data": {
      "text/html": [
       "<div>\n",
       "<style>\n",
       "    .dataframe thead tr:only-child th {\n",
       "        text-align: right;\n",
       "    }\n",
       "\n",
       "    .dataframe thead th {\n",
       "        text-align: left;\n",
       "    }\n",
       "\n",
       "    .dataframe tbody tr th {\n",
       "        vertical-align: top;\n",
       "    }\n",
       "</style>\n",
       "<table border=\"1\" class=\"dataframe\">\n",
       "  <thead>\n",
       "    <tr style=\"text-align: right;\">\n",
       "      <th></th>\n",
       "      <th>e5gas</th>\n",
       "      <th>weekday</th>\n",
       "      <th>latitude</th>\n",
       "      <th>longitude</th>\n",
       "      <th>dautobahn</th>\n",
       "      <th>autobahn</th>\n",
       "      <th>aral</th>\n",
       "      <th>esso</th>\n",
       "      <th>jet</th>\n",
       "      <th>shell</th>\n",
       "      <th>total</th>\n",
       "      <th>rotterdam</th>\n",
       "      <th>brent</th>\n",
       "      <th>wti</th>\n",
       "      <th>state</th>\n",
       "      <th>station</th>\n",
       "      <th>num_days</th>\n",
       "    </tr>\n",
       "    <tr>\n",
       "      <th>date</th>\n",
       "      <th></th>\n",
       "      <th></th>\n",
       "      <th></th>\n",
       "      <th></th>\n",
       "      <th></th>\n",
       "      <th></th>\n",
       "      <th></th>\n",
       "      <th></th>\n",
       "      <th></th>\n",
       "      <th></th>\n",
       "      <th></th>\n",
       "      <th></th>\n",
       "      <th></th>\n",
       "      <th></th>\n",
       "      <th></th>\n",
       "      <th></th>\n",
       "      <th></th>\n",
       "    </tr>\n",
       "  </thead>\n",
       "  <tbody>\n",
       "    <tr>\n",
       "      <th>2014-05-16</th>\n",
       "      <td>1.536647</td>\n",
       "      <td>5</td>\n",
       "      <td>51.157501</td>\n",
       "      <td>10.0002</td>\n",
       "      <td>14850.392578</td>\n",
       "      <td>0</td>\n",
       "      <td>0</td>\n",
       "      <td>0</td>\n",
       "      <td>0</td>\n",
       "      <td>0</td>\n",
       "      <td>0</td>\n",
       "      <td>0.622837</td>\n",
       "      <td>109.424042</td>\n",
       "      <td>101.258553</td>\n",
       "      <td>10</td>\n",
       "      <td>0</td>\n",
       "      <td>0</td>\n",
       "    </tr>\n",
       "    <tr>\n",
       "      <th>2014-05-17</th>\n",
       "      <td>1.564000</td>\n",
       "      <td>6</td>\n",
       "      <td>51.157501</td>\n",
       "      <td>10.0002</td>\n",
       "      <td>14850.392578</td>\n",
       "      <td>0</td>\n",
       "      <td>0</td>\n",
       "      <td>0</td>\n",
       "      <td>0</td>\n",
       "      <td>0</td>\n",
       "      <td>0</td>\n",
       "      <td>0.622486</td>\n",
       "      <td>109.699997</td>\n",
       "      <td>101.669998</td>\n",
       "      <td>10</td>\n",
       "      <td>0</td>\n",
       "      <td>1</td>\n",
       "    </tr>\n",
       "    <tr>\n",
       "      <th>2014-05-18</th>\n",
       "      <td>1.569417</td>\n",
       "      <td>0</td>\n",
       "      <td>51.157501</td>\n",
       "      <td>10.0002</td>\n",
       "      <td>14850.392578</td>\n",
       "      <td>0</td>\n",
       "      <td>0</td>\n",
       "      <td>0</td>\n",
       "      <td>0</td>\n",
       "      <td>0</td>\n",
       "      <td>0</td>\n",
       "      <td>0.622136</td>\n",
       "      <td>109.699997</td>\n",
       "      <td>101.669998</td>\n",
       "      <td>10</td>\n",
       "      <td>0</td>\n",
       "      <td>2</td>\n",
       "    </tr>\n",
       "    <tr>\n",
       "      <th>2014-05-19</th>\n",
       "      <td>1.578167</td>\n",
       "      <td>1</td>\n",
       "      <td>51.157501</td>\n",
       "      <td>10.0002</td>\n",
       "      <td>14850.392578</td>\n",
       "      <td>0</td>\n",
       "      <td>0</td>\n",
       "      <td>0</td>\n",
       "      <td>0</td>\n",
       "      <td>0</td>\n",
       "      <td>0</td>\n",
       "      <td>0.621785</td>\n",
       "      <td>109.838928</td>\n",
       "      <td>102.008537</td>\n",
       "      <td>10</td>\n",
       "      <td>0</td>\n",
       "      <td>3</td>\n",
       "    </tr>\n",
       "    <tr>\n",
       "      <th>2014-05-20</th>\n",
       "      <td>1.599000</td>\n",
       "      <td>2</td>\n",
       "      <td>51.157501</td>\n",
       "      <td>10.0002</td>\n",
       "      <td>14850.392578</td>\n",
       "      <td>0</td>\n",
       "      <td>0</td>\n",
       "      <td>0</td>\n",
       "      <td>0</td>\n",
       "      <td>0</td>\n",
       "      <td>0</td>\n",
       "      <td>0.620475</td>\n",
       "      <td>109.522926</td>\n",
       "      <td>102.058907</td>\n",
       "      <td>10</td>\n",
       "      <td>0</td>\n",
       "      <td>4</td>\n",
       "    </tr>\n",
       "  </tbody>\n",
       "</table>\n",
       "</div>"
      ],
      "text/plain": [
       "               e5gas  weekday   latitude  longitude     dautobahn  autobahn  \\\n",
       "date                                                                          \n",
       "2014-05-16  1.536647        5  51.157501    10.0002  14850.392578         0   \n",
       "2014-05-17  1.564000        6  51.157501    10.0002  14850.392578         0   \n",
       "2014-05-18  1.569417        0  51.157501    10.0002  14850.392578         0   \n",
       "2014-05-19  1.578167        1  51.157501    10.0002  14850.392578         0   \n",
       "2014-05-20  1.599000        2  51.157501    10.0002  14850.392578         0   \n",
       "\n",
       "            aral  esso  jet  shell  total  rotterdam       brent         wti  \\\n",
       "date                                                                           \n",
       "2014-05-16     0     0    0      0      0   0.622837  109.424042  101.258553   \n",
       "2014-05-17     0     0    0      0      0   0.622486  109.699997  101.669998   \n",
       "2014-05-18     0     0    0      0      0   0.622136  109.699997  101.669998   \n",
       "2014-05-19     0     0    0      0      0   0.621785  109.838928  102.008537   \n",
       "2014-05-20     0     0    0      0      0   0.620475  109.522926  102.058907   \n",
       "\n",
       "            state  station  num_days  \n",
       "date                                  \n",
       "2014-05-16     10        0         0  \n",
       "2014-05-17     10        0         1  \n",
       "2014-05-18     10        0         2  \n",
       "2014-05-19     10        0         3  \n",
       "2014-05-20     10        0         4  "
      ]
     },
     "execution_count": 5,
     "metadata": {},
     "output_type": "execute_result"
    }
   ],
   "source": [
    "# try removing the averages so as to not include endogenous variables on the rigth hand side\n",
    "df.drop(['global_mean', 'state_mean', 'eurusd', 'vehicles'], axis=1, inplace=True)\n",
    "print(df.shape)\n",
    "df.head()"
   ]
  },
  {
   "cell_type": "code",
   "execution_count": 6,
   "metadata": {
    "collapsed": true
   },
   "outputs": [],
   "source": [
    "rot = df['rotterdam'][:575]\n",
    "brent = df['brent'][:575]\n",
    "wti = df['wti'][:575]"
   ]
  },
  {
   "cell_type": "markdown",
   "metadata": {},
   "source": [
    "ARIMA for rot"
   ]
  },
  {
   "cell_type": "code",
   "execution_count": 45,
   "metadata": {
    "collapsed": true
   },
   "outputs": [],
   "source": [
    "rot_train = rot[:-31]\n",
    "rot_test = rot[-31:]"
   ]
  },
  {
   "cell_type": "code",
   "execution_count": 93,
   "metadata": {},
   "outputs": [
    {
     "name": "stderr",
     "output_type": "stream",
     "text": [
      "/usr/local/anaconda3/lib/python3.6/site-packages/statsmodels/tsa/kalmanf/kalmanfilter.py:646: FutureWarning: Conversion of the second argument of issubdtype from `float` to `np.floating` is deprecated. In future, it will be treated as `np.float64 == np.dtype(float).type`.\n",
      "  if issubdtype(paramsdtype, float):\n",
      "/usr/local/anaconda3/lib/python3.6/site-packages/statsmodels/tsa/kalmanf/kalmanfilter.py:650: FutureWarning: Conversion of the second argument of issubdtype from `complex` to `np.complexfloating` is deprecated. In future, it will be treated as `np.complex128 == np.dtype(complex).type`.\n",
      "  elif issubdtype(paramsdtype, complex):\n"
     ]
    },
    {
     "name": "stdout",
     "output_type": "stream",
     "text": [
      "                             ARIMA Model Results                              \n",
      "==============================================================================\n",
      "Dep. Variable:           D2.rotterdam   No. Observations:                  542\n",
      "Model:                ARIMA(15, 2, 0)   Log Likelihood                1832.524\n",
      "Method:                       css-mle   S.D. of innovations              0.008\n",
      "Date:                Thu, 05 Apr 2018   AIC                          -3631.048\n",
      "Time:                        12:23:17   BIC                          -3558.028\n",
      "Sample:                    05-18-2014   HQIC                         -3602.495\n",
      "                         - 11-10-2015                                         \n",
      "=======================================================================================\n",
      "                          coef    std err          z      P>|z|      [0.025      0.975]\n",
      "---------------------------------------------------------------------------------------\n",
      "const                5.988e-06   4.29e-05      0.140      0.889   -7.81e-05    9.01e-05\n",
      "ar.L1.D2.rotterdam     -0.9211      0.043    -21.499      0.000      -1.005      -0.837\n",
      "ar.L2.D2.rotterdam     -0.8771      0.058    -15.080      0.000      -0.991      -0.763\n",
      "ar.L3.D2.rotterdam     -0.8324      0.069    -12.041      0.000      -0.968      -0.697\n",
      "ar.L4.D2.rotterdam     -0.7231      0.077     -9.372      0.000      -0.874      -0.572\n",
      "ar.L5.D2.rotterdam     -0.7140      0.082     -8.707      0.000      -0.875      -0.553\n",
      "ar.L6.D2.rotterdam     -0.5856      0.086     -6.803      0.000      -0.754      -0.417\n",
      "ar.L7.D2.rotterdam     -0.4981      0.088     -5.663      0.000      -0.670      -0.326\n",
      "ar.L8.D2.rotterdam     -0.4516      0.088     -5.112      0.000      -0.625      -0.278\n",
      "ar.L9.D2.rotterdam     -0.4085      0.088     -4.655      0.000      -0.580      -0.237\n",
      "ar.L10.D2.rotterdam    -0.3785      0.086     -4.414      0.000      -0.547      -0.210\n",
      "ar.L11.D2.rotterdam    -0.3241      0.082     -3.963      0.000      -0.484      -0.164\n",
      "ar.L12.D2.rotterdam    -0.2542      0.077     -3.305      0.001      -0.405      -0.103\n",
      "ar.L13.D2.rotterdam    -0.1402      0.069     -2.030      0.043      -0.276      -0.005\n",
      "ar.L14.D2.rotterdam    -0.1169      0.058     -2.014      0.045      -0.231      -0.003\n",
      "ar.L15.D2.rotterdam    -0.0751      0.043     -1.756      0.080      -0.159       0.009\n",
      "                                    Roots                                     \n",
      "==============================================================================\n",
      "                  Real           Imaginary           Modulus         Frequency\n",
      "------------------------------------------------------------------------------\n",
      "AR.1             1.0284           -0.4926j            1.1403           -0.0711\n",
      "AR.2             1.0284           +0.4926j            1.1403            0.0711\n",
      "AR.3             0.7670           -0.9174j            1.1958           -0.1392\n",
      "AR.4             0.7670           +0.9174j            1.1958            0.1392\n",
      "AR.5             0.5092           -1.1270j            1.2367           -0.1825\n",
      "AR.6             0.5092           +1.1270j            1.2367            0.1825\n",
      "AR.7             0.0063           -1.1691j            1.1691           -0.2491\n",
      "AR.8             0.0063           +1.1691j            1.1691            0.2491\n",
      "AR.9            -0.4381           -1.0509j            1.1386           -0.3129\n",
      "AR.10           -0.4381           +1.0509j            1.1386            0.3129\n",
      "AR.11           -0.8609           -0.8186j            1.1879           -0.3790\n",
      "AR.12           -0.8609           +0.8186j            1.1879            0.3790\n",
      "AR.13           -1.1553           -0.3732j            1.2141           -0.4503\n",
      "AR.14           -1.1553           +0.3732j            1.2141            0.4503\n",
      "AR.15           -1.2703           -0.0000j            1.2703           -0.5000\n",
      "------------------------------------------------------------------------------\n"
     ]
    }
   ],
   "source": [
    "p = 15\n",
    "q = 2\n",
    "d = 0\n",
    "model = ARIMA(rot_train, order=(p, q, d))\n",
    "model_fit = model.fit(disp=0)\n",
    "# print summary of fit model\n",
    "print(model_fit.summary())"
   ]
  },
  {
   "cell_type": "code",
   "execution_count": 94,
   "metadata": {},
   "outputs": [
    {
     "name": "stdout",
     "output_type": "stream",
     "text": [
      "Forecast: 0.414074 : Day 0\n",
      "Forecast: 0.417596 : Day 1\n",
      "Forecast: 0.420807 : Day 2\n",
      "Forecast: 0.424292 : Day 3\n",
      "Forecast: 0.427922 : Day 4\n",
      "Forecast: 0.432267 : Day 5\n",
      "Forecast: 0.435038 : Day 6\n",
      "Forecast: 0.438151 : Day 7\n",
      "Forecast: 0.441879 : Day 8\n",
      "Forecast: 0.445548 : Day 9\n",
      "Forecast: 0.449290 : Day 10\n",
      "Forecast: 0.453078 : Day 11\n",
      "Forecast: 0.457723 : Day 12\n",
      "Forecast: 0.461745 : Day 13\n",
      "Forecast: 0.465839 : Day 14\n",
      "Forecast: 0.470058 : Day 15\n",
      "Forecast: 0.473940 : Day 16\n",
      "Forecast: 0.477733 : Day 17\n",
      "Forecast: 0.481627 : Day 18\n",
      "Forecast: 0.485444 : Day 19\n",
      "Forecast: 0.489302 : Day 20\n",
      "Forecast: 0.493248 : Day 21\n",
      "Forecast: 0.497092 : Day 22\n",
      "Forecast: 0.500982 : Day 23\n",
      "Forecast: 0.504954 : Day 24\n",
      "Forecast: 0.508981 : Day 25\n",
      "Forecast: 0.512965 : Day 26\n",
      "Forecast: 0.516993 : Day 27\n",
      "Forecast: 0.521056 : Day 28\n",
      "Forecast: 0.525049 : Day 29\n",
      "Forecast: 0.529046 : Day 30\n"
     ]
    },
    {
     "name": "stderr",
     "output_type": "stream",
     "text": [
      "/usr/local/anaconda3/lib/python3.6/site-packages/statsmodels/tsa/kalmanf/kalmanfilter.py:577: FutureWarning: Conversion of the second argument of issubdtype from `float` to `np.floating` is deprecated. In future, it will be treated as `np.float64 == np.dtype(float).type`.\n",
      "  if issubdtype(paramsdtype, float):\n"
     ]
    }
   ],
   "source": [
    "# multi-step out-of-sample forecast\n",
    "forecast = model_fit.forecast(steps=31)[0]\n",
    "for index, day in enumerate(forecast):\n",
    "    print('Forecast: %f' % day, ': Day', index)"
   ]
  },
  {
   "cell_type": "code",
   "execution_count": 95,
   "metadata": {},
   "outputs": [
    {
     "data": {
      "text/plain": [
       "date\n",
       "2015-11-11    0.422269\n",
       "2015-11-12    0.364591\n",
       "2015-11-13    0.353165\n",
       "2015-11-14    0.348899\n",
       "2015-11-15    0.344634\n",
       "2015-11-16    0.340368\n",
       "2015-11-17    0.353718\n",
       "2015-11-18    0.353937\n",
       "2015-11-19    0.359760\n",
       "2015-11-20    0.361069\n",
       "2015-11-21    0.360033\n",
       "2015-11-22    0.358996\n",
       "2015-11-23    0.357959\n",
       "2015-11-24    0.382379\n",
       "2015-11-25    0.378281\n",
       "2015-11-26    0.382307\n",
       "2015-11-27    0.385947\n",
       "2015-11-28    0.384212\n",
       "2015-11-29    0.382478\n",
       "2015-11-30    0.380743\n",
       "2015-12-01    0.376809\n",
       "2015-12-02    0.365558\n",
       "2015-12-03    0.353431\n",
       "2015-12-04    0.343880\n",
       "2015-12-05    0.340438\n",
       "2015-12-06    0.336996\n",
       "2015-12-07    0.333554\n",
       "2015-12-08    0.331715\n",
       "2015-12-09    0.331795\n",
       "2015-12-10    0.331913\n",
       "2015-12-11    0.332031\n",
       "Name: rotterdam, dtype: float64"
      ]
     },
     "execution_count": 95,
     "metadata": {},
     "output_type": "execute_result"
    }
   ],
   "source": [
    "rot_test"
   ]
  },
  {
   "cell_type": "code",
   "execution_count": 96,
   "metadata": {},
   "outputs": [
    {
     "data": {
      "text/plain": [
       "0.12064324562131275"
      ]
     },
     "execution_count": 96,
     "metadata": {},
     "output_type": "execute_result"
    }
   ],
   "source": [
    "sqrt(mean_squared_error(forecast, rot_test))"
   ]
  },
  {
   "cell_type": "code",
   "execution_count": 60,
   "metadata": {},
   "outputs": [
    {
     "data": {
      "image/png": "[encoded data removed]",
      "text/plain": [
       "<matplotlib.figure.Figure at 0x11bd23128>"
      ]
     },
     "metadata": {},
     "output_type": "display_data"
    }
   ],
   "source": [
    "import matplotlib.pyplot as plt\n",
    "%matplotlib inline\n",
    "plt.plot(rot[:-31])\n",
    "plt.ylabel('Rotterdam Oil Price')\n",
    "plt.show()"
   ]
  },
  {
   "cell_type": "code",
   "execution_count": 61,
   "metadata": {},
   "outputs": [
    {
     "data": {
      "image/png": "[encoded data removed]",
      "text/plain": [
       "<matplotlib.figure.Figure at 0x11c305588>"
      ]
     },
     "metadata": {},
     "output_type": "display_data"
    }
   ],
   "source": [
    "plt.plot(rot[-31:])\n",
    "plt.ylabel('Rotterdam Oil Price')\n",
    "plt.show()"
   ]
  },
  {
   "cell_type": "code",
   "execution_count": 64,
   "metadata": {
    "collapsed": true
   },
   "outputs": [],
   "source": [
    "#ACF and PACF plots:\n",
    "from statsmodels.tsa.stattools import acf, pacf"
   ]
  },
  {
   "cell_type": "code",
   "execution_count": 65,
   "metadata": {
    "collapsed": true
   },
   "outputs": [],
   "source": [
    "lag_acf = acf(rot, nlags=31)\n",
    "lag_pacf = pacf(rot, nlags=31, method='ols')"
   ]
  },
  {
   "cell_type": "code",
   "execution_count": 70,
   "metadata": {},
   "outputs": [
    {
     "data": {
      "text/plain": [
       "Text(0.5,1,'Autocorrelation Function')"
      ]
     },
     "execution_count": 70,
     "metadata": {},
     "output_type": "execute_result"
    },
    {
     "data": {
      "image/png": "[encoded data removed]",
      "text/plain": [
       "<matplotlib.figure.Figure at 0x11caf2240>"
      ]
     },
     "metadata": {},
     "output_type": "display_data"
    }
   ],
   "source": [
    "#Plot ACF: \n",
    "plt.subplot(121) \n",
    "plt.plot(lag_acf)\n",
    "plt.axhline(y=0,linestyle='--',color='gray')\n",
    "plt.axhline(y=-1.96/np.sqrt(len(lag_acf)),linestyle='--',color='gray')\n",
    "plt.axhline(y=1.96/np.sqrt(len(lag_acf)),linestyle='--',color='gray')\n",
    "plt.title('Autocorrelation Function')"
   ]
  },
  {
   "cell_type": "code",
   "execution_count": 71,
   "metadata": {},
   "outputs": [
    {
     "data": {
      "image/png": "[encoded data removed]",
      "text/plain": [
       "<matplotlib.figure.Figure at 0x11bcd2668>"
      ]
     },
     "metadata": {},
     "output_type": "display_data"
    }
   ],
   "source": [
    "#Plot PACF:\n",
    "plt.subplot(122)\n",
    "plt.plot(lag_pacf)\n",
    "plt.axhline(y=0,linestyle='--',color='gray')\n",
    "plt.axhline(y=-1.96/np.sqrt(len(rot)),linestyle='--',color='gray')\n",
    "plt.axhline(y=1.96/np.sqrt(len(rot)),linestyle='--',color='gray')\n",
    "plt.title('Partial Autocorrelation Function')\n",
    "plt.tight_layout()"
   ]
  },
  {
   "cell_type": "code",
   "execution_count": null,
   "metadata": {
    "collapsed": true
   },
   "outputs": [],
   "source": []
  }
 ],
 "metadata": {
  "kernelspec": {
   "display_name": "Python 3",
   "language": "python",
   "name": "python3"
  },
  "language_info": {
   "codemirror_mode": {
    "name": "ipython",
    "version": 3
   },
   "file_extension": ".py",
   "mimetype": "text/x-python",
   "name": "python",
   "nbconvert_exporter": "python",
   "pygments_lexer": "ipython3",
   "version": "3.6.3"
  }
 },
 "nbformat": 4,
 "nbformat_minor": 2
}
