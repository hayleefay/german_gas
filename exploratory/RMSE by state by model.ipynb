{
 "cells": [
  {
   "cell_type": "code",
   "execution_count": 15,
   "metadata": {
    "collapsed": true
   },
   "outputs": [],
   "source": [
    "import pandas as pd\n",
    "from bokeh.plotting import figure, output_file, show\n",
    "import numpy as np\n",
    "from sklearn.metrics import mean_squared_error\n",
    "from math import sqrt\n",
    "from bokeh.models import Range1d, Span\n",
    "from math import pi"
   ]
  },
  {
   "cell_type": "code",
   "execution_count": 2,
   "metadata": {
    "collapsed": true
   },
   "outputs": [],
   "source": [
    "lin_df = pd.read_csv(\"./../predictions/linear_predictions.csv\")\n",
    "rf_df = pd.read_csv(\"./../predictions/rf_predictions.csv\")\n",
    "lstm_df = pd.read_csv(\"./../predictions/actual_lstm_predictions.csv\")"
   ]
  },
  {
   "cell_type": "code",
   "execution_count": 3,
   "metadata": {
    "collapsed": true
   },
   "outputs": [],
   "source": [
    "lin_df.drop(['autobahn', 'rotterdam', 'esso', 'shell', 'weekday_2', 'weekday_3', 'weekday_4', 'weekday_5', 'weekday_6', 'aral', 'brent', 'dautobahn', 'jet', 'num_days', 'total', 'weekday_1', 'wti'], axis=1, inplace=True)\n",
    "rf_df.drop(['autobahn', 'rotterdam', 'esso', 'shell', 'weekday_2', 'weekday_3', 'weekday_4', 'weekday_5', 'weekday_6', 'aral', 'brent', 'dautobahn', 'jet', 'num_days', 'total', 'weekday_1', 'wti'], axis=1, inplace=True)"
   ]
  },
  {
   "cell_type": "code",
   "execution_count": 4,
   "metadata": {
    "collapsed": true
   },
   "outputs": [],
   "source": [
    "lin_df.loc[lin_df['state_1'] == 1, 'state'] = 'Bavaria'\n",
    "lin_df.loc[lin_df['state_2'] == 1, 'state'] = 'Berlin'\n",
    "lin_df.loc[lin_df['state_3'] == 1, 'state'] = 'Brandenburg'\n",
    "lin_df.loc[lin_df['state_4'] == 1, 'state'] = 'Bremen'\n",
    "lin_df.loc[lin_df['state_5'] == 1, 'state'] = 'Hamburg'\n",
    "lin_df.loc[lin_df['state_6'] == 1, 'state'] = 'Hesse'\n",
    "lin_df.loc[lin_df['state_7'] == 1, 'state'] = 'Lower Saxony'\n",
    "lin_df.loc[lin_df['state_8'] == 1, 'state'] = 'Mecklenburg-Vorpommern'\n",
    "lin_df.loc[lin_df['state_9'] == 1, 'state'] = 'North Rhine-Westphalia'\n",
    "lin_df.loc[lin_df['state_10'] == 1, 'state'] = 'Rheinland-Pfalz'\n",
    "lin_df.loc[lin_df['state_11'] == 1, 'state'] = 'Saarland'\n",
    "lin_df.loc[lin_df['state_12'] == 1, 'state'] = 'Saxony'\n",
    "lin_df.loc[lin_df['state_13'] == 1, 'state'] = 'Saxony-Anhalt'\n",
    "lin_df.loc[lin_df['state_14'] == 1, 'state'] = 'Schleswig-Holstein'\n",
    "lin_df.loc[lin_df['state_15'] == 1, 'state'] = 'Thuringia'\n",
    "lin_df['state'].fillna('Baden-Wuerttemberg', inplace=True)\n",
    "\n",
    "rf_df.loc[rf_df['state_1'] == 1, 'state'] = 'Bavaria'\n",
    "rf_df.loc[rf_df['state_2'] == 1, 'state'] = 'Berlin'\n",
    "rf_df.loc[rf_df['state_3'] == 1, 'state'] = 'Brandenburg'\n",
    "rf_df.loc[rf_df['state_4'] == 1, 'state'] = 'Bremen'\n",
    "rf_df.loc[rf_df['state_5'] == 1, 'state'] = 'Hamburg'\n",
    "rf_df.loc[rf_df['state_6'] == 1, 'state'] = 'Hesse'\n",
    "rf_df.loc[rf_df['state_7'] == 1, 'state'] = 'Lower Saxony'\n",
    "rf_df.loc[rf_df['state_8'] == 1, 'state'] = 'Mecklenburg-Vorpommern'\n",
    "rf_df.loc[rf_df['state_9'] == 1, 'state'] = 'North Rhine-Westphalia'\n",
    "rf_df.loc[rf_df['state_10'] == 1, 'state'] = 'Rheinland-Pfalz'\n",
    "rf_df.loc[rf_df['state_11'] == 1, 'state'] = 'Saarland'\n",
    "rf_df.loc[rf_df['state_12'] == 1, 'state'] = 'Saxony'\n",
    "rf_df.loc[rf_df['state_13'] == 1, 'state'] = 'Saxony-Anhalt'\n",
    "rf_df.loc[rf_df['state_14'] == 1, 'state'] = 'Schleswig-Holstein'\n",
    "rf_df.loc[rf_df['state_15'] == 1, 'state'] = 'Thuringia'\n",
    "rf_df['state'].fillna('Baden-Wuerttemberg', inplace=True)"
   ]
  },
  {
   "cell_type": "code",
   "execution_count": 5,
   "metadata": {
    "collapsed": true
   },
   "outputs": [],
   "source": [
    "state_label_list = rf_df['state']\n",
    "lstm_df['state'] = state_label_list"
   ]
  },
  {
   "cell_type": "code",
   "execution_count": 6,
   "metadata": {
    "collapsed": true
   },
   "outputs": [],
   "source": [
    "state_df = pd.DataFrame()\n",
    "lin_rmse_list = []\n",
    "rf_rmse_list = []\n",
    "lstm_rmse_list = []\n",
    "states= ['North Rhine-Westphalia', 'Bavaria', 'Baden-Wuerttemberg', 'Hesse',\n",
    "       'Thuringia', 'Rheinland-Pfalz', 'Saxony', 'Schleswig-Holstein',\n",
    "       'Lower Saxony', 'Mecklenburg-Vorpommern', 'Saxony-Anhalt',\n",
    "       'Brandenburg', 'Berlin', 'Hamburg', 'Bremen', 'Saarland']\n",
    "\n",
    "for state in states:\n",
    "    t = lin_df[lin_df['state'] == state]\n",
    "    lin_rmse = sqrt(mean_squared_error(t['y'], t['yhat']))\n",
    "    lin_rmse_list.append(lin_rmse)\n",
    "\n",
    "    l = rf_df[rf_df['state'] == state]\n",
    "    rf_rmse = sqrt(mean_squared_error(l['y'], l['yhat']))\n",
    "    rf_rmse_list.append(rf_rmse)\n",
    "\n",
    "    r = lstm_df[lstm_df['state'] == state]\n",
    "    lstm_rmse = sqrt(mean_squared_error(r['y'], r['y_hat']))\n",
    "    lstm_rmse_list.append(lstm_rmse)\n",
    "\n",
    "    \n",
    "state_df['state'] = states\n",
    "state_df['lin_rmse'] = lin_rmse_list\n",
    "state_df['rf_rmse'] = rf_rmse_list\n",
    "state_df['lstm_rmse'] = lstm_rmse_list"
   ]
  },
  {
   "cell_type": "code",
   "execution_count": 7,
   "metadata": {},
   "outputs": [
    {
     "data": {
      "text/html": [
       "<div>\n",
       "<style>\n",
       "    .dataframe thead tr:only-child th {\n",
       "        text-align: right;\n",
       "    }\n",
       "\n",
       "    .dataframe thead th {\n",
       "        text-align: left;\n",
       "    }\n",
       "\n",
       "    .dataframe tbody tr th {\n",
       "        vertical-align: top;\n",
       "    }\n",
       "</style>\n",
       "<table border=\"1\" class=\"dataframe\">\n",
       "  <thead>\n",
       "    <tr style=\"text-align: right;\">\n",
       "      <th></th>\n",
       "      <th>state</th>\n",
       "      <th>lin_rmse</th>\n",
       "      <th>rf_rmse</th>\n",
       "      <th>lstm_rmse</th>\n",
       "    </tr>\n",
       "  </thead>\n",
       "  <tbody>\n",
       "    <tr>\n",
       "      <th>0</th>\n",
       "      <td>North Rhine-Westphalia</td>\n",
       "      <td>0.034587</td>\n",
       "      <td>0.027408</td>\n",
       "      <td>0.031266</td>\n",
       "    </tr>\n",
       "    <tr>\n",
       "      <th>1</th>\n",
       "      <td>Bavaria</td>\n",
       "      <td>0.036905</td>\n",
       "      <td>0.029486</td>\n",
       "      <td>0.033140</td>\n",
       "    </tr>\n",
       "    <tr>\n",
       "      <th>2</th>\n",
       "      <td>Baden-Wuerttemberg</td>\n",
       "      <td>0.035857</td>\n",
       "      <td>0.027746</td>\n",
       "      <td>0.031816</td>\n",
       "    </tr>\n",
       "    <tr>\n",
       "      <th>3</th>\n",
       "      <td>Hesse</td>\n",
       "      <td>0.031504</td>\n",
       "      <td>0.026505</td>\n",
       "      <td>0.026985</td>\n",
       "    </tr>\n",
       "    <tr>\n",
       "      <th>4</th>\n",
       "      <td>Thuringia</td>\n",
       "      <td>0.034080</td>\n",
       "      <td>0.027757</td>\n",
       "      <td>0.026113</td>\n",
       "    </tr>\n",
       "    <tr>\n",
       "      <th>5</th>\n",
       "      <td>Rheinland-Pfalz</td>\n",
       "      <td>0.033587</td>\n",
       "      <td>0.026212</td>\n",
       "      <td>0.029663</td>\n",
       "    </tr>\n",
       "    <tr>\n",
       "      <th>6</th>\n",
       "      <td>Saxony</td>\n",
       "      <td>0.032328</td>\n",
       "      <td>0.024262</td>\n",
       "      <td>0.024882</td>\n",
       "    </tr>\n",
       "    <tr>\n",
       "      <th>7</th>\n",
       "      <td>Schleswig-Holstein</td>\n",
       "      <td>0.038718</td>\n",
       "      <td>0.026439</td>\n",
       "      <td>0.026885</td>\n",
       "    </tr>\n",
       "    <tr>\n",
       "      <th>8</th>\n",
       "      <td>Lower Saxony</td>\n",
       "      <td>0.035812</td>\n",
       "      <td>0.025036</td>\n",
       "      <td>0.028232</td>\n",
       "    </tr>\n",
       "    <tr>\n",
       "      <th>9</th>\n",
       "      <td>Mecklenburg-Vorpommern</td>\n",
       "      <td>0.036440</td>\n",
       "      <td>0.023670</td>\n",
       "      <td>0.024477</td>\n",
       "    </tr>\n",
       "    <tr>\n",
       "      <th>10</th>\n",
       "      <td>Saxony-Anhalt</td>\n",
       "      <td>0.034062</td>\n",
       "      <td>0.020956</td>\n",
       "      <td>0.027552</td>\n",
       "    </tr>\n",
       "    <tr>\n",
       "      <th>11</th>\n",
       "      <td>Brandenburg</td>\n",
       "      <td>0.033544</td>\n",
       "      <td>0.024671</td>\n",
       "      <td>0.025938</td>\n",
       "    </tr>\n",
       "    <tr>\n",
       "      <th>12</th>\n",
       "      <td>Berlin</td>\n",
       "      <td>0.032423</td>\n",
       "      <td>0.022907</td>\n",
       "      <td>0.030719</td>\n",
       "    </tr>\n",
       "    <tr>\n",
       "      <th>13</th>\n",
       "      <td>Hamburg</td>\n",
       "      <td>0.032462</td>\n",
       "      <td>0.025112</td>\n",
       "      <td>0.025916</td>\n",
       "    </tr>\n",
       "    <tr>\n",
       "      <th>14</th>\n",
       "      <td>Bremen</td>\n",
       "      <td>0.036294</td>\n",
       "      <td>0.023558</td>\n",
       "      <td>0.028138</td>\n",
       "    </tr>\n",
       "    <tr>\n",
       "      <th>15</th>\n",
       "      <td>Saarland</td>\n",
       "      <td>0.032491</td>\n",
       "      <td>0.025490</td>\n",
       "      <td>0.027034</td>\n",
       "    </tr>\n",
       "  </tbody>\n",
       "</table>\n",
       "</div>"
      ],
      "text/plain": [
       "                     state  lin_rmse   rf_rmse  lstm_rmse\n",
       "0   North Rhine-Westphalia  0.034587  0.027408   0.031266\n",
       "1                  Bavaria  0.036905  0.029486   0.033140\n",
       "2       Baden-Wuerttemberg  0.035857  0.027746   0.031816\n",
       "3                    Hesse  0.031504  0.026505   0.026985\n",
       "4                Thuringia  0.034080  0.027757   0.026113\n",
       "5          Rheinland-Pfalz  0.033587  0.026212   0.029663\n",
       "6                   Saxony  0.032328  0.024262   0.024882\n",
       "7       Schleswig-Holstein  0.038718  0.026439   0.026885\n",
       "8             Lower Saxony  0.035812  0.025036   0.028232\n",
       "9   Mecklenburg-Vorpommern  0.036440  0.023670   0.024477\n",
       "10           Saxony-Anhalt  0.034062  0.020956   0.027552\n",
       "11             Brandenburg  0.033544  0.024671   0.025938\n",
       "12                  Berlin  0.032423  0.022907   0.030719\n",
       "13                 Hamburg  0.032462  0.025112   0.025916\n",
       "14                  Bremen  0.036294  0.023558   0.028138\n",
       "15                Saarland  0.032491  0.025490   0.027034"
      ]
     },
     "execution_count": 7,
     "metadata": {},
     "output_type": "execute_result"
    }
   ],
   "source": [
    "state_df"
   ]
  },
  {
   "cell_type": "code",
   "execution_count": 23,
   "metadata": {
    "collapsed": true
   },
   "outputs": [],
   "source": [
    "p = figure(plot_width=800, plot_height=500, x_range=states)\n",
    "p.yaxis.axis_label = 'Root Mean Squared Error'\n",
    "p.xaxis.axis_label = 'State'\n",
    "p.xaxis.major_label_orientation = pi/4\n",
    "\n",
    "# add a line renderer\n",
    "p.line(state_df['state'], state_df['lin_rmse'], color='red', line_width=3, legend='Linear regression')\n",
    "p.line(state_df['state'], state_df['lstm_rmse'], color='orange', line_width=3, legend='LSTM network')\n",
    "p.line(state_df['state'], state_df['rf_rmse'], color='green', line_width=3, legend='Random Forest')\n",
    "\n",
    "p.legend.location = 'bottom_left'\n",
    "\n",
    "show(p)"
   ]
  },
  {
   "cell_type": "code",
   "execution_count": null,
   "metadata": {
    "collapsed": true
   },
   "outputs": [],
   "source": []
  }
 ],
 "metadata": {
  "kernelspec": {
   "display_name": "Python 3",
   "language": "python",
   "name": "python3"
  },
  "language_info": {
   "codemirror_mode": {
    "name": "ipython",
    "version": 3
   },
   "file_extension": ".py",
   "mimetype": "text/x-python",
   "name": "python",
   "nbconvert_exporter": "python",
   "pygments_lexer": "ipython3",
   "version": "3.6.3"
  }
 },
 "nbformat": 4,
 "nbformat_minor": 2
}
