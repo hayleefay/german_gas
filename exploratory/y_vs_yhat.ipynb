{
 "cells": [
  {
   "cell_type": "code",
   "execution_count": 27,
   "metadata": {},
   "outputs": [],
   "source": [
    "# create a line plot over the dates where there is a line for y and yhat\n",
    "  # That means date on the x axis, y/yhat on the y axis\n",
    "# each day needs to be averaged for y and y hat\n",
    "# legend - observed gas price, predicted gas price\n",
    "\n",
    "from bokeh.plotting import figure, output_file, show\n",
    "import pandas as pd\n",
    "\n",
    "# df = pd.read_csv('./../predictions/linear_predictions.csv')\n",
    "df = pd.read_csv('./../predictions/actual_lstm_predictions.csv')\n",
    "# rf_df = pd.read_csv('./../predictions/rf_predictions.csv')"
   ]
  },
  {
   "cell_type": "code",
   "execution_count": 33,
   "metadata": {},
   "outputs": [
    {
     "data": {
      "text/plain": [
       "0    545.0\n",
       "1    545.0\n",
       "2    545.0\n",
       "3    545.0\n",
       "4    545.0\n",
       "Name: 14, dtype: float64"
      ]
     },
     "execution_count": 33,
     "metadata": {},
     "output_type": "execute_result"
    }
   ],
   "source": [
    "df['14'].head()"
   ]
  },
  {
   "cell_type": "code",
   "execution_count": 24,
   "metadata": {},
   "outputs": [],
   "source": [
    "# Get the means\n",
    "means = df.groupby(['date']).mean()\n",
    "\n",
    "# preserve the date column\n",
    "means['date'] = pd.to_datetime(means.index)\n",
    "\n",
    "y = means['y']\n",
    "yhat = means['yhat']\n",
    "dates = means['date']"
   ]
  },
  {
   "cell_type": "code",
   "execution_count": 25,
   "metadata": {
    "collapsed": true
   },
   "outputs": [],
   "source": [
    "output_file(\"y_v_yhat_rf.html\")\n",
    "p = figure(plot_width=400, plot_height=400, x_axis_type='datetime')\n",
    "p.yaxis.axis_label = 'Gasoline Price'"
   ]
  },
  {
   "cell_type": "code",
   "execution_count": 26,
   "metadata": {
    "collapsed": true
   },
   "outputs": [],
   "source": [
    "p.line(means['date'], y, line_width=2, color='purple', legend=\"Observed price\")\n",
    "p.line(means['date'], yhat, line_width=2, color='red', legend=\"Predicted price\")\n",
    "\n",
    "p.legend.location = \"bottom_left\"\n",
    "\n",
    "show(p)"
   ]
  }
 ],
 "metadata": {
  "kernelspec": {
   "display_name": "Python 3",
   "language": "python",
   "name": "python3"
  },
  "language_info": {
   "codemirror_mode": {
    "name": "ipython",
    "version": 3
   },
   "file_extension": ".py",
   "mimetype": "text/x-python",
   "name": "python",
   "nbconvert_exporter": "python",
   "pygments_lexer": "ipython3",
   "version": "3.6.3"
  }
 },
 "nbformat": 4,
 "nbformat_minor": 2
}
