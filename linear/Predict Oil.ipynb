{
 "cells": [
  {
   "cell_type": "code",
   "execution_count": 125,
   "metadata": {
    "collapsed": true
   },
   "outputs": [],
   "source": [
    "import pandas as pd\n",
    "from sklearn.linear_model import LinearRegression\n",
    "from sklearn.metrics import mean_squared_error\n",
    "from math import sqrt"
   ]
  },
  {
   "cell_type": "code",
   "execution_count": 126,
   "metadata": {},
   "outputs": [],
   "source": [
    "# read in the data\n",
    "df = pd.read_csv(\"./../data/supervised_1_1.csv\")"
   ]
  },
  {
   "cell_type": "code",
   "execution_count": 127,
   "metadata": {
    "collapsed": true
   },
   "outputs": [],
   "source": [
    "# format data\n",
    "# take only the the oil price\n",
    "# predict the final 30 days\n",
    "# save the test and train data"
   ]
  },
  {
   "cell_type": "code",
   "execution_count": 128,
   "metadata": {
    "collapsed": true
   },
   "outputs": [],
   "source": [
    "# convert series to supervised learning\n",
    "def series_to_supervised(data, n_in=1, n_out=1, dropnan=True):\n",
    "    n_vars = 1 if type(data) is list else data.shape[1]\n",
    "    df = pd.DataFrame(data)\n",
    "    cols, names = list(), list()\n",
    "    # input sequence (t-n, ... t-1)\n",
    "    for i in range(n_in, 0, -1):\n",
    "        cols.append(df.shift(i))\n",
    "        names += [('var%d(t-%d)' % (j+1, i)) for j in range(n_vars)]\n",
    "    # forecast sequence (t, t+1, ... t+n)\n",
    "    for i in range(0, n_out):\n",
    "        cols.append(df.shift(-i))\n",
    "        if i == 0:\n",
    "            names += [('var%d(t)' % (j+1)) for j in range(n_vars)]\n",
    "        else:\n",
    "            names += [('var%d(t+%d)' % (j+1, i)) for j in range(n_vars)]\n",
    "    # put it all together\n",
    "    agg = pd.concat(cols, axis=1)\n",
    "    agg.columns = names\n",
    "    # drop rows with NaN values\n",
    "    if dropnan:\n",
    "        agg.dropna(inplace=True)\n",
    "    return agg"
   ]
  },
  {
   "cell_type": "code",
   "execution_count": 129,
   "metadata": {},
   "outputs": [
    {
     "name": "stdout",
     "output_type": "stream",
     "text": [
      "(7316300, 21)\n"
     ]
    },
    {
     "data": {
      "text/html": [
       "<div>\n",
       "<style>\n",
       "    .dataframe thead tr:only-child th {\n",
       "        text-align: right;\n",
       "    }\n",
       "\n",
       "    .dataframe thead th {\n",
       "        text-align: left;\n",
       "    }\n",
       "\n",
       "    .dataframe tbody tr th {\n",
       "        vertical-align: top;\n",
       "    }\n",
       "</style>\n",
       "<table border=\"1\" class=\"dataframe\">\n",
       "  <thead>\n",
       "    <tr style=\"text-align: right;\">\n",
       "      <th></th>\n",
       "      <th>e5gas</th>\n",
       "      <th>weekday</th>\n",
       "      <th>latitude</th>\n",
       "      <th>longitude</th>\n",
       "      <th>dautobahn</th>\n",
       "      <th>autobahn</th>\n",
       "      <th>aral</th>\n",
       "      <th>esso</th>\n",
       "      <th>jet</th>\n",
       "      <th>shell</th>\n",
       "      <th>...</th>\n",
       "      <th>rotterdam</th>\n",
       "      <th>brent</th>\n",
       "      <th>wti</th>\n",
       "      <th>eurusd</th>\n",
       "      <th>vehicles</th>\n",
       "      <th>state</th>\n",
       "      <th>station</th>\n",
       "      <th>global_mean</th>\n",
       "      <th>state_mean</th>\n",
       "      <th>num_days</th>\n",
       "    </tr>\n",
       "    <tr>\n",
       "      <th>date</th>\n",
       "      <th></th>\n",
       "      <th></th>\n",
       "      <th></th>\n",
       "      <th></th>\n",
       "      <th></th>\n",
       "      <th></th>\n",
       "      <th></th>\n",
       "      <th></th>\n",
       "      <th></th>\n",
       "      <th></th>\n",
       "      <th></th>\n",
       "      <th></th>\n",
       "      <th></th>\n",
       "      <th></th>\n",
       "      <th></th>\n",
       "      <th></th>\n",
       "      <th></th>\n",
       "      <th></th>\n",
       "      <th></th>\n",
       "      <th></th>\n",
       "      <th></th>\n",
       "    </tr>\n",
       "  </thead>\n",
       "  <tbody>\n",
       "    <tr>\n",
       "      <th>2014-05-16</th>\n",
       "      <td>1.536647</td>\n",
       "      <td>5</td>\n",
       "      <td>51.157501</td>\n",
       "      <td>10.0002</td>\n",
       "      <td>14850.392578</td>\n",
       "      <td>0</td>\n",
       "      <td>0</td>\n",
       "      <td>0</td>\n",
       "      <td>0</td>\n",
       "      <td>0</td>\n",
       "      <td>...</td>\n",
       "      <td>0.622837</td>\n",
       "      <td>109.424042</td>\n",
       "      <td>101.258553</td>\n",
       "      <td>1.369886</td>\n",
       "      <td>15211.0</td>\n",
       "      <td>10</td>\n",
       "      <td>0</td>\n",
       "      <td>1.546131</td>\n",
       "      <td>1.561237</td>\n",
       "      <td>0</td>\n",
       "    </tr>\n",
       "    <tr>\n",
       "      <th>2014-05-17</th>\n",
       "      <td>1.564000</td>\n",
       "      <td>6</td>\n",
       "      <td>51.157501</td>\n",
       "      <td>10.0002</td>\n",
       "      <td>14850.392578</td>\n",
       "      <td>0</td>\n",
       "      <td>0</td>\n",
       "      <td>0</td>\n",
       "      <td>0</td>\n",
       "      <td>0</td>\n",
       "      <td>...</td>\n",
       "      <td>0.622486</td>\n",
       "      <td>109.699997</td>\n",
       "      <td>101.669998</td>\n",
       "      <td>1.369580</td>\n",
       "      <td>9146.0</td>\n",
       "      <td>10</td>\n",
       "      <td>0</td>\n",
       "      <td>1.560708</td>\n",
       "      <td>1.578196</td>\n",
       "      <td>1</td>\n",
       "    </tr>\n",
       "    <tr>\n",
       "      <th>2014-05-18</th>\n",
       "      <td>1.569417</td>\n",
       "      <td>0</td>\n",
       "      <td>51.157501</td>\n",
       "      <td>10.0002</td>\n",
       "      <td>14850.392578</td>\n",
       "      <td>0</td>\n",
       "      <td>0</td>\n",
       "      <td>0</td>\n",
       "      <td>0</td>\n",
       "      <td>0</td>\n",
       "      <td>...</td>\n",
       "      <td>0.622136</td>\n",
       "      <td>109.699997</td>\n",
       "      <td>101.669998</td>\n",
       "      <td>1.369580</td>\n",
       "      <td>9843.0</td>\n",
       "      <td>10</td>\n",
       "      <td>0</td>\n",
       "      <td>1.564237</td>\n",
       "      <td>1.581731</td>\n",
       "      <td>2</td>\n",
       "    </tr>\n",
       "    <tr>\n",
       "      <th>2014-05-19</th>\n",
       "      <td>1.578167</td>\n",
       "      <td>1</td>\n",
       "      <td>51.157501</td>\n",
       "      <td>10.0002</td>\n",
       "      <td>14850.392578</td>\n",
       "      <td>0</td>\n",
       "      <td>0</td>\n",
       "      <td>0</td>\n",
       "      <td>0</td>\n",
       "      <td>0</td>\n",
       "      <td>...</td>\n",
       "      <td>0.621785</td>\n",
       "      <td>109.838928</td>\n",
       "      <td>102.008537</td>\n",
       "      <td>1.370161</td>\n",
       "      <td>13502.0</td>\n",
       "      <td>10</td>\n",
       "      <td>0</td>\n",
       "      <td>1.563935</td>\n",
       "      <td>1.581525</td>\n",
       "      <td>3</td>\n",
       "    </tr>\n",
       "    <tr>\n",
       "      <th>2014-05-20</th>\n",
       "      <td>1.599000</td>\n",
       "      <td>2</td>\n",
       "      <td>51.157501</td>\n",
       "      <td>10.0002</td>\n",
       "      <td>14850.392578</td>\n",
       "      <td>0</td>\n",
       "      <td>0</td>\n",
       "      <td>0</td>\n",
       "      <td>0</td>\n",
       "      <td>0</td>\n",
       "      <td>...</td>\n",
       "      <td>0.620475</td>\n",
       "      <td>109.522926</td>\n",
       "      <td>102.058907</td>\n",
       "      <td>1.368282</td>\n",
       "      <td>12876.0</td>\n",
       "      <td>10</td>\n",
       "      <td>0</td>\n",
       "      <td>1.566228</td>\n",
       "      <td>1.582620</td>\n",
       "      <td>4</td>\n",
       "    </tr>\n",
       "  </tbody>\n",
       "</table>\n",
       "<p>5 rows × 21 columns</p>\n",
       "</div>"
      ],
      "text/plain": [
       "               e5gas  weekday   latitude  longitude     dautobahn  autobahn  \\\n",
       "date                                                                          \n",
       "2014-05-16  1.536647        5  51.157501    10.0002  14850.392578         0   \n",
       "2014-05-17  1.564000        6  51.157501    10.0002  14850.392578         0   \n",
       "2014-05-18  1.569417        0  51.157501    10.0002  14850.392578         0   \n",
       "2014-05-19  1.578167        1  51.157501    10.0002  14850.392578         0   \n",
       "2014-05-20  1.599000        2  51.157501    10.0002  14850.392578         0   \n",
       "\n",
       "            aral  esso  jet  shell    ...     rotterdam       brent  \\\n",
       "date                                  ...                             \n",
       "2014-05-16     0     0    0      0    ...      0.622837  109.424042   \n",
       "2014-05-17     0     0    0      0    ...      0.622486  109.699997   \n",
       "2014-05-18     0     0    0      0    ...      0.622136  109.699997   \n",
       "2014-05-19     0     0    0      0    ...      0.621785  109.838928   \n",
       "2014-05-20     0     0    0      0    ...      0.620475  109.522926   \n",
       "\n",
       "                   wti    eurusd  vehicles  state  station  global_mean  \\\n",
       "date                                                                      \n",
       "2014-05-16  101.258553  1.369886   15211.0     10        0     1.546131   \n",
       "2014-05-17  101.669998  1.369580    9146.0     10        0     1.560708   \n",
       "2014-05-18  101.669998  1.369580    9843.0     10        0     1.564237   \n",
       "2014-05-19  102.008537  1.370161   13502.0     10        0     1.563935   \n",
       "2014-05-20  102.058907  1.368282   12876.0     10        0     1.566228   \n",
       "\n",
       "            state_mean  num_days  \n",
       "date                              \n",
       "2014-05-16    1.561237         0  \n",
       "2014-05-17    1.578196         1  \n",
       "2014-05-18    1.581731         2  \n",
       "2014-05-19    1.581525         3  \n",
       "2014-05-20    1.582620         4  \n",
       "\n",
       "[5 rows x 21 columns]"
      ]
     },
     "execution_count": 129,
     "metadata": {},
     "output_type": "execute_result"
    }
   ],
   "source": [
    "df.set_index('date', inplace=True)\n",
    "print(df.shape)\n",
    "df.head()"
   ]
  },
  {
   "cell_type": "code",
   "execution_count": 130,
   "metadata": {},
   "outputs": [
    {
     "name": "stdout",
     "output_type": "stream",
     "text": [
      "(7316300, 17)\n"
     ]
    },
    {
     "data": {
      "text/html": [
       "<div>\n",
       "<style>\n",
       "    .dataframe thead tr:only-child th {\n",
       "        text-align: right;\n",
       "    }\n",
       "\n",
       "    .dataframe thead th {\n",
       "        text-align: left;\n",
       "    }\n",
       "\n",
       "    .dataframe tbody tr th {\n",
       "        vertical-align: top;\n",
       "    }\n",
       "</style>\n",
       "<table border=\"1\" class=\"dataframe\">\n",
       "  <thead>\n",
       "    <tr style=\"text-align: right;\">\n",
       "      <th></th>\n",
       "      <th>e5gas</th>\n",
       "      <th>weekday</th>\n",
       "      <th>latitude</th>\n",
       "      <th>longitude</th>\n",
       "      <th>dautobahn</th>\n",
       "      <th>autobahn</th>\n",
       "      <th>aral</th>\n",
       "      <th>esso</th>\n",
       "      <th>jet</th>\n",
       "      <th>shell</th>\n",
       "      <th>total</th>\n",
       "      <th>rotterdam</th>\n",
       "      <th>brent</th>\n",
       "      <th>wti</th>\n",
       "      <th>state</th>\n",
       "      <th>station</th>\n",
       "      <th>num_days</th>\n",
       "    </tr>\n",
       "    <tr>\n",
       "      <th>date</th>\n",
       "      <th></th>\n",
       "      <th></th>\n",
       "      <th></th>\n",
       "      <th></th>\n",
       "      <th></th>\n",
       "      <th></th>\n",
       "      <th></th>\n",
       "      <th></th>\n",
       "      <th></th>\n",
       "      <th></th>\n",
       "      <th></th>\n",
       "      <th></th>\n",
       "      <th></th>\n",
       "      <th></th>\n",
       "      <th></th>\n",
       "      <th></th>\n",
       "      <th></th>\n",
       "    </tr>\n",
       "  </thead>\n",
       "  <tbody>\n",
       "    <tr>\n",
       "      <th>2014-05-16</th>\n",
       "      <td>1.536647</td>\n",
       "      <td>5</td>\n",
       "      <td>51.157501</td>\n",
       "      <td>10.0002</td>\n",
       "      <td>14850.392578</td>\n",
       "      <td>0</td>\n",
       "      <td>0</td>\n",
       "      <td>0</td>\n",
       "      <td>0</td>\n",
       "      <td>0</td>\n",
       "      <td>0</td>\n",
       "      <td>0.622837</td>\n",
       "      <td>109.424042</td>\n",
       "      <td>101.258553</td>\n",
       "      <td>10</td>\n",
       "      <td>0</td>\n",
       "      <td>0</td>\n",
       "    </tr>\n",
       "    <tr>\n",
       "      <th>2014-05-17</th>\n",
       "      <td>1.564000</td>\n",
       "      <td>6</td>\n",
       "      <td>51.157501</td>\n",
       "      <td>10.0002</td>\n",
       "      <td>14850.392578</td>\n",
       "      <td>0</td>\n",
       "      <td>0</td>\n",
       "      <td>0</td>\n",
       "      <td>0</td>\n",
       "      <td>0</td>\n",
       "      <td>0</td>\n",
       "      <td>0.622486</td>\n",
       "      <td>109.699997</td>\n",
       "      <td>101.669998</td>\n",
       "      <td>10</td>\n",
       "      <td>0</td>\n",
       "      <td>1</td>\n",
       "    </tr>\n",
       "    <tr>\n",
       "      <th>2014-05-18</th>\n",
       "      <td>1.569417</td>\n",
       "      <td>0</td>\n",
       "      <td>51.157501</td>\n",
       "      <td>10.0002</td>\n",
       "      <td>14850.392578</td>\n",
       "      <td>0</td>\n",
       "      <td>0</td>\n",
       "      <td>0</td>\n",
       "      <td>0</td>\n",
       "      <td>0</td>\n",
       "      <td>0</td>\n",
       "      <td>0.622136</td>\n",
       "      <td>109.699997</td>\n",
       "      <td>101.669998</td>\n",
       "      <td>10</td>\n",
       "      <td>0</td>\n",
       "      <td>2</td>\n",
       "    </tr>\n",
       "    <tr>\n",
       "      <th>2014-05-19</th>\n",
       "      <td>1.578167</td>\n",
       "      <td>1</td>\n",
       "      <td>51.157501</td>\n",
       "      <td>10.0002</td>\n",
       "      <td>14850.392578</td>\n",
       "      <td>0</td>\n",
       "      <td>0</td>\n",
       "      <td>0</td>\n",
       "      <td>0</td>\n",
       "      <td>0</td>\n",
       "      <td>0</td>\n",
       "      <td>0.621785</td>\n",
       "      <td>109.838928</td>\n",
       "      <td>102.008537</td>\n",
       "      <td>10</td>\n",
       "      <td>0</td>\n",
       "      <td>3</td>\n",
       "    </tr>\n",
       "    <tr>\n",
       "      <th>2014-05-20</th>\n",
       "      <td>1.599000</td>\n",
       "      <td>2</td>\n",
       "      <td>51.157501</td>\n",
       "      <td>10.0002</td>\n",
       "      <td>14850.392578</td>\n",
       "      <td>0</td>\n",
       "      <td>0</td>\n",
       "      <td>0</td>\n",
       "      <td>0</td>\n",
       "      <td>0</td>\n",
       "      <td>0</td>\n",
       "      <td>0.620475</td>\n",
       "      <td>109.522926</td>\n",
       "      <td>102.058907</td>\n",
       "      <td>10</td>\n",
       "      <td>0</td>\n",
       "      <td>4</td>\n",
       "    </tr>\n",
       "  </tbody>\n",
       "</table>\n",
       "</div>"
      ],
      "text/plain": [
       "               e5gas  weekday   latitude  longitude     dautobahn  autobahn  \\\n",
       "date                                                                          \n",
       "2014-05-16  1.536647        5  51.157501    10.0002  14850.392578         0   \n",
       "2014-05-17  1.564000        6  51.157501    10.0002  14850.392578         0   \n",
       "2014-05-18  1.569417        0  51.157501    10.0002  14850.392578         0   \n",
       "2014-05-19  1.578167        1  51.157501    10.0002  14850.392578         0   \n",
       "2014-05-20  1.599000        2  51.157501    10.0002  14850.392578         0   \n",
       "\n",
       "            aral  esso  jet  shell  total  rotterdam       brent         wti  \\\n",
       "date                                                                           \n",
       "2014-05-16     0     0    0      0      0   0.622837  109.424042  101.258553   \n",
       "2014-05-17     0     0    0      0      0   0.622486  109.699997  101.669998   \n",
       "2014-05-18     0     0    0      0      0   0.622136  109.699997  101.669998   \n",
       "2014-05-19     0     0    0      0      0   0.621785  109.838928  102.008537   \n",
       "2014-05-20     0     0    0      0      0   0.620475  109.522926  102.058907   \n",
       "\n",
       "            state  station  num_days  \n",
       "date                                  \n",
       "2014-05-16     10        0         0  \n",
       "2014-05-17     10        0         1  \n",
       "2014-05-18     10        0         2  \n",
       "2014-05-19     10        0         3  \n",
       "2014-05-20     10        0         4  "
      ]
     },
     "execution_count": 130,
     "metadata": {},
     "output_type": "execute_result"
    }
   ],
   "source": [
    "# try removing the averages so as to not include endogenous variables on the rigth hand side\n",
    "df.drop(['global_mean', 'state_mean', 'eurusd', 'vehicles'], axis=1, inplace=True)\n",
    "print(df.shape)\n",
    "df.head()"
   ]
  },
  {
   "cell_type": "code",
   "execution_count": 131,
   "metadata": {
    "collapsed": true
   },
   "outputs": [],
   "source": [
    "rot = df['rotterdam'][:575]\n",
    "brent = df['brent'][:575]\n",
    "wti = df['wti'][:575]"
   ]
  },
  {
   "cell_type": "markdown",
   "metadata": {},
   "source": [
    "Predict Rotterdam."
   ]
  },
  {
   "cell_type": "code",
   "execution_count": 133,
   "metadata": {},
   "outputs": [
    {
     "data": {
      "text/plain": [
       "LinearRegression(copy_X=True, fit_intercept=True, n_jobs=1, normalize=False)"
      ]
     },
     "execution_count": 133,
     "metadata": {},
     "output_type": "execute_result"
    }
   ],
   "source": [
    "# define rot_X as lagged one day and rot_y as rot\n",
    "rot_y = rot.copy()\n",
    "rot_x = rot.copy()\n",
    "# pop the first observation on rot_y and the last on rot_x\n",
    "rot_y.drop(['2014-05-16'], inplace=True)\n",
    "rot_x.drop(['2015-12-11'], inplace=True)\n",
    "# take last 30 days as test\n",
    "train_rot_x = rot_x[:-31]\n",
    "train_rot_y = rot_y[:-31]\n",
    "test_rot_x = rot_x[-31:]\n",
    "test_rot_y = rot_y[-31:]\n",
    "# grab the values\n",
    "v_train_rot_x = train_rot_x.values\n",
    "v_train_rot_y = train_rot_y.values\n",
    "v_test_rot_x = test_rot_x.values\n",
    "v_test_rot_y = test_rot_y.values\n",
    "# fit model for rot\n",
    "rot_model = LinearRegression()\n",
    "rot_model.fit(v_train_rot_x.reshape(543,1), v_train_rot_y)"
   ]
  },
  {
   "cell_type": "code",
   "execution_count": 134,
   "metadata": {},
   "outputs": [],
   "source": [
    "rot_yhat = rot_model.predict(v_test_rot_x.reshape(31,1))"
   ]
  },
  {
   "cell_type": "code",
   "execution_count": 135,
   "metadata": {},
   "outputs": [
    {
     "data": {
      "text/plain": [
       "0.0126370523086607"
      ]
     },
     "execution_count": 135,
     "metadata": {},
     "output_type": "execute_result"
    }
   ],
   "source": [
    "rot_rmse = sqrt(mean_squared_error(test_rot_y, rot_yhat))\n",
    "rot_rmse"
   ]
  },
  {
   "cell_type": "markdown",
   "metadata": {},
   "source": [
    "Now, for Brent."
   ]
  },
  {
   "cell_type": "code",
   "execution_count": 136,
   "metadata": {},
   "outputs": [
    {
     "data": {
      "text/plain": [
       "LinearRegression(copy_X=True, fit_intercept=True, n_jobs=1, normalize=False)"
      ]
     },
     "execution_count": 136,
     "metadata": {},
     "output_type": "execute_result"
    }
   ],
   "source": [
    "# define brent_X as lagged one day and brent_y as brent\n",
    "brent_y = brent.copy()\n",
    "brent_x = brent.copy()\n",
    "# pop the first observation on brent_y and the last on brent_x\n",
    "brent_y.drop(['2014-05-16'], inplace=True)\n",
    "brent_x.drop(['2015-12-11'], inplace=True)\n",
    "# take last 30 days as test\n",
    "train_brent_x = brent_x[:-31]\n",
    "train_brent_y = brent_y[:-31]\n",
    "test_brent_x = brent_x[-31:]\n",
    "test_brent_y = brent_y[-31:]\n",
    "# grab the values\n",
    "v_train_brent_x = train_brent_x.values\n",
    "v_train_brent_y = train_brent_y.values\n",
    "v_test_brent_x = test_brent_x.values\n",
    "v_test_brent_y = test_brent_y.values\n",
    "# fit model for rot\n",
    "brent_model = LinearRegression()\n",
    "brent_model.fit(v_train_brent_x.reshape(543,1), v_train_brent_y)"
   ]
  },
  {
   "cell_type": "code",
   "execution_count": 137,
   "metadata": {
    "collapsed": true
   },
   "outputs": [],
   "source": [
    "brent_yhat = brent_model.predict(v_test_brent_x.reshape(31,1))"
   ]
  },
  {
   "cell_type": "code",
   "execution_count": 138,
   "metadata": {},
   "outputs": [
    {
     "data": {
      "text/plain": [
       "0.8439200281866971"
      ]
     },
     "execution_count": 138,
     "metadata": {},
     "output_type": "execute_result"
    }
   ],
   "source": [
    "brent_rmse = sqrt(mean_squared_error(test_brent_y, brent_yhat))\n",
    "brent_rmse"
   ]
  },
  {
   "cell_type": "markdown",
   "metadata": {},
   "source": [
    "Now for WTI"
   ]
  },
  {
   "cell_type": "code",
   "execution_count": 139,
   "metadata": {},
   "outputs": [
    {
     "data": {
      "text/plain": [
       "LinearRegression(copy_X=True, fit_intercept=True, n_jobs=1, normalize=False)"
      ]
     },
     "execution_count": 139,
     "metadata": {},
     "output_type": "execute_result"
    }
   ],
   "source": [
    "# define wti_X as lagged one day and wti_y as brent\n",
    "wti_y = wti.copy()\n",
    "wti_x = wti.copy()\n",
    "# pop the first observation on brent_y and the last on brent_x\n",
    "wti_y.drop(['2014-05-16'], inplace=True)\n",
    "wti_x.drop(['2015-12-11'], inplace=True)\n",
    "# take last 30 days as test\n",
    "train_wti_x = wti_x[:-31]\n",
    "train_wti_y = wti_y[:-31]\n",
    "test_wti_x = wti_x[-31:]\n",
    "test_wti_y = wti_y[-31:]\n",
    "# grab the values\n",
    "v_train_wti_x = train_wti_x.values\n",
    "v_train_wti_y = train_wti_y.values\n",
    "v_test_wti_x = test_wti_x.values\n",
    "v_test_wti_y = test_wti_y.values\n",
    "# fit model for wti\n",
    "wti_model = LinearRegression()\n",
    "wti_model.fit(v_train_wti_x.reshape(543,1), v_train_wti_y)"
   ]
  },
  {
   "cell_type": "code",
   "execution_count": 140,
   "metadata": {
    "collapsed": true
   },
   "outputs": [],
   "source": [
    "wti_yhat = wti_model.predict(v_test_wti_x.reshape(31,1))"
   ]
  },
  {
   "cell_type": "code",
   "execution_count": 141,
   "metadata": {},
   "outputs": [
    {
     "data": {
      "text/plain": [
       "0.5823761770435268"
      ]
     },
     "execution_count": 141,
     "metadata": {},
     "output_type": "execute_result"
    }
   ],
   "source": [
    "wti_rmse = sqrt(mean_squared_error(test_wti_y, wti_yhat))\n",
    "wti_rmse"
   ]
  },
  {
   "cell_type": "markdown",
   "metadata": {},
   "source": [
    "Now prepare the data to be used for the linear model and save."
   ]
  },
  {
   "cell_type": "code",
   "execution_count": 142,
   "metadata": {},
   "outputs": [],
   "source": [
    "linear_oil_yhat = {'rot_yhat': rot_yhat, 'brent_yhat': brent_yhat, 'wti_yhat': wti_yhat}"
   ]
  },
  {
   "cell_type": "code",
   "execution_count": 143,
   "metadata": {
    "collapsed": true
   },
   "outputs": [],
   "source": [
    "linear_oil_yhat_df = pd.DataFrame(data=linear_oil_yhat)"
   ]
  },
  {
   "cell_type": "code",
   "execution_count": 144,
   "metadata": {},
   "outputs": [],
   "source": [
    "linear_oil_yhat_df.to_csv('./../data/linear_oil_yhat.csv')"
   ]
  },
  {
   "cell_type": "code",
   "execution_count": null,
   "metadata": {
    "collapsed": true
   },
   "outputs": [],
   "source": []
  }
 ],
 "metadata": {
  "kernelspec": {
   "display_name": "Python 3",
   "language": "python",
   "name": "python3"
  },
  "language_info": {
   "codemirror_mode": {
    "name": "ipython",
    "version": 3
   },
   "file_extension": ".py",
   "mimetype": "text/x-python",
   "name": "python",
   "nbconvert_exporter": "python",
   "pygments_lexer": "ipython3",
   "version": "3.6.3"
  }
 },
 "nbformat": 4,
 "nbformat_minor": 2
}
